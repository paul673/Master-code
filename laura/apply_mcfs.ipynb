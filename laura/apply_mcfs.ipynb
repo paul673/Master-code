{
 "cells": [
  {
   "cell_type": "markdown",
   "id": "cb6ac1e7-afc2-482e-a5f5-3e00039ecdbc",
   "metadata": {},
   "source": [
    "# Example application of medicinal chemistry filters (MCFs)\n",
    "Load a few molecules into RDKit"
   ]
  },
  {
   "cell_type": "code",
   "execution_count": 1,
   "id": "9cbb4060-0506-4863-b713-842d399aa897",
   "metadata": {
    "tags": []
   },
   "outputs": [],
   "source": [
    "from rdkit import Chem\n",
    "\n",
    "example_molecules = ['C1=CC=C(C=C1)CNC2=CC=CC3=C2N=CC=C3',\n",
    " 'C1=CC=C(C=C1)C2=CC(=NC(=C2)C3=CC=CC=N3)C4=CC=CC=C4',\n",
    " 'CCCCN(CCCC)C(=O)CO',\n",
    " 'CCC(C1=CC(=C(C(=C1)OC)OC)OC)C(=O)O',\n",
    " 'C#CC1=NC(=CN=C1N)Cl',\n",
    " 'COC1=CC(=C(C=C1)Br)OC(F)F']\n",
    "\n",
    "smiles_to_mol = {s: Chem.MolFromSmiles(s) for s in example_molecules}"
   ]
  },
  {
   "cell_type": "markdown",
   "id": "0bcde2f4-032c-4fc7-ade3-ef969a734894",
   "metadata": {},
   "source": [
    "Binary scores for each molecule based on pass/no pass"
   ]
  },
  {
   "cell_type": "code",
   "execution_count": 2,
   "id": "2e449403-4ec9-48ea-92d1-0493fc8e7214",
   "metadata": {
    "tags": []
   },
   "outputs": [
    {
     "data": {
      "text/plain": [
       "{'C1=CC=C(C=C1)CNC2=CC=CC3=C2N=CC=C3': array([1, 0, 1, 1, 1, 1, 1]),\n",
       " 'C1=CC=C(C=C1)C2=CC(=NC(=C2)C3=CC=CC=N3)C4=CC=CC=C4': array([1, 1, 1, 1, 1, 1, 1]),\n",
       " 'CCCCN(CCCC)C(=O)CO': array([1, 0, 1, 1, 1, 1, 1]),\n",
       " 'CCC(C1=CC(=C(C(=C1)OC)OC)OC)C(=O)O': array([1, 1, 1, 1, 1, 0, 0]),\n",
       " 'C#CC1=NC(=CN=C1N)Cl': array([1, 0, 1, 1, 1, 1, 0]),\n",
       " 'COC1=CC(=C(C=C1)Br)OC(F)F': array([1, 1, 1, 1, 1, 1, 0])}"
      ]
     },
     "execution_count": 2,
     "metadata": {},
     "output_type": "execute_result"
    }
   ],
   "source": [
    "import numpy as np\n",
    "import mcf\n",
    "\n",
    "# Adapted from \"Deep learning enables rapid identification of potent DDR1 kinase inhibitors\"\n",
    "all_filters = [\n",
    "    mcf.LogPFilter(),\n",
    "    mcf.MolecularWeightFilter(),\n",
    "    mcf.HBABHBDFilter(),\n",
    "    mcf.TPSAFilter(),\n",
    "    mcf.NRBFilter(),\n",
    "    mcf.ToxicityFilter(),\n",
    "    mcf.TrivialRulesFilter(),\n",
    "]\n",
    "\n",
    "def score_molecule(mol):\n",
    "    return np.array([f.apply(mol) for f in all_filters]).astype(int)\n",
    "\n",
    "{s:score_molecule(mol) for s, mol in smiles_to_mol.items()}"
   ]
  },
  {
   "cell_type": "markdown",
   "id": "f054e499-b02c-4ffe-acf0-dbd119a23419",
   "metadata": {},
   "source": [
    "You can combine these scores into a single score using:\n",
    "* mean - reward intermediate molecules\n",
    "* product - reward only valid molecules"
   ]
  }
 ],
 "metadata": {
  "kernelspec": {
   "display_name": "Python 3 (ipykernel)",
   "language": "python",
   "name": "python3"
  },
  "language_info": {
   "codemirror_mode": {
    "name": "ipython",
    "version": 3
   },
   "file_extension": ".py",
   "mimetype": "text/x-python",
   "name": "python",
   "nbconvert_exporter": "python",
   "pygments_lexer": "ipython3",
   "version": "3.11.5"
  }
 },
 "nbformat": 4,
 "nbformat_minor": 5
}
