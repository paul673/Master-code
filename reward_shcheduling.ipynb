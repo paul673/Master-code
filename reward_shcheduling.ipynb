{
 "cells": [
  {
   "cell_type": "code",
   "execution_count": 1,
   "metadata": {},
   "outputs": [
    {
     "name": "stderr",
     "output_type": "stream",
     "text": [
      "c:\\Users\\paulj\\Desktop\\Master\\venv\\lib\\site-packages\\sklearn\\base.py:380: InconsistentVersionWarning: Trying to unpickle estimator DecisionTreeClassifier from version 1.5.2 when using version 1.6.1. This might lead to breaking code or invalid results. Use at your own risk. For more info please refer to:\n",
      "https://scikit-learn.org/stable/model_persistence.html#security-maintainability-limitations\n",
      "  warnings.warn(\n",
      "c:\\Users\\paulj\\Desktop\\Master\\venv\\lib\\site-packages\\sklearn\\base.py:380: InconsistentVersionWarning: Trying to unpickle estimator RandomForestClassifier from version 1.5.2 when using version 1.6.1. This might lead to breaking code or invalid results. Use at your own risk. For more info please refer to:\n",
      "https://scikit-learn.org/stable/model_persistence.html#security-maintainability-limitations\n",
      "  warnings.warn(\n",
      "c:\\Users\\paulj\\Desktop\\Master\\venv\\lib\\site-packages\\tqdm\\auto.py:21: TqdmWarning: IProgress not found. Please update jupyter and ipywidgets. See https://ipywidgets.readthedocs.io/en/stable/user_install.html\n",
      "  from .autonotebook import tqdm as notebook_tqdm\n"
     ]
    }
   ],
   "source": [
    "from molecule_validation import is_odorant, score_molecule\n",
    "from reward_sheduling_conditional import SchedulingConditional,RewardSchedulingConditional"
   ]
  },
  {
   "cell_type": "code",
   "execution_count": 2,
   "metadata": {},
   "outputs": [
    {
     "name": "stderr",
     "output_type": "stream",
     "text": [
      "No normalization for SPS. Feature removed!\n",
      "No normalization for AvgIpc. Feature removed!\n",
      "\u001b[34m\u001b[1mwandb\u001b[0m: \u001b[33mWARNING\u001b[0m W&B installed but not logged in.  Run `wandb login` or set the WANDB_API_KEY env variable.\n"
     ]
    },
    {
     "name": "stdout",
     "output_type": "stream",
     "text": [
      "WARNING:tensorflow:From c:\\Users\\paulj\\Desktop\\Master\\venv\\lib\\site-packages\\tensorflow\\python\\util\\deprecation.py:588: calling function (from tensorflow.python.eager.polymorphic_function.polymorphic_function) with experimental_relax_shapes is deprecated and will be removed in a future version.\n",
      "Instructions for updating:\n",
      "experimental_relax_shapes is deprecated, use reduce_retracing instead\n"
     ]
    },
    {
     "name": "stderr",
     "output_type": "stream",
     "text": [
      "\u001b[34m\u001b[1mwandb\u001b[0m: \u001b[33mWARNING\u001b[0m W&B installed but not logged in.  Run `wandb login` or set the WANDB_API_KEY env variable.\n"
     ]
    }
   ],
   "source": [
    "import socket\n",
    "from typing import Dict, List, Tuple\n",
    "\n",
    "import torch\n",
    "from rdkit import Chem\n",
    "from rdkit.Chem.rdchem import Mol as RDMol\n",
    "from torch import Tensor\n",
    "from numpy.linalg import norm\n",
    "\n",
    "from gflownet import GFNTask, LogScalar, ObjectProperties\n",
    "from gflownet.config import Config, init_empty\n",
    "from gflownet.envs.mol_building_env import MolBuildingEnvContext\n",
    "from gflownet.online_trainer import StandardOnlineTrainer\n",
    "import json\n",
    "import os\n",
    "import pathlib\n",
    "import numpy as np\n",
    "from rdkit.Chem.Draw import MolsToGridImage, MolToImage\n",
    "from pom_models.functions import fragance_propabilities_from_smiles\n",
    "\n",
    "TARGET_SMILES = \"COC1=C(C=CC(=C1)C=O)O\"\n",
    "TARGET_VEC = fragance_propabilities_from_smiles(TARGET_SMILES)[0]\n",
    "from gflownet.utils.misc import create_logger\n",
    "import gc\n",
    "from gflownet.utils.transforms import to_logreward\n",
    "\n",
    "\n",
    "import time\n",
    "\n",
    "\n",
    "class MakeRingsTask(GFNTask):\n",
    "\n",
    "    def __init__(self,cfg: Config):\n",
    "            self.cfg = cfg\n",
    "            self.scheduling_conditional = RewardSchedulingConditional(cfg)\n",
    "\n",
    "    def sample_conditional_information(self, n: int, train_it: int) -> Dict[str, Tensor]:\n",
    "        # Encoding lets the model know that codniotional information is applied\n",
    "        return self.scheduling_conditional.sample(n, train_it)\n",
    "\n",
    "    def cond_info_to_logreward(self, cond_info: Dict[str, Tensor], obj_props: ObjectProperties) -> LogScalar:\n",
    "        #cond_info[\"reward_scheduling\"]\n",
    "        #scalar_logreward = torch.as_tensor(obj_props).squeeze().clamp(min=1e-30).log()\n",
    "        #return LogScalar(scalar_logreward.flatten())\n",
    "        scalarized_rewards = self.scheduling_conditional.transform(cond_info, obj_props)\n",
    "        scalarized_logrewards = to_logreward(scalarized_rewards)\n",
    "        clamped_logrewards = scalarized_logrewards.clamp(min=self.cfg.algo.illegal_action_logreward)\n",
    "        return LogScalar(clamped_logrewards)\n",
    "\n",
    "    def compute_obj_properties(self, mols: List[RDMol]) -> Tuple[ObjectProperties, Tensor]:\n",
    "        #is_valid = torch.tensor([m.GetNumAtoms() > 1 and Chem.Descriptors.NumRadicalElectrons(m) == 0 for m in mols ]).bool()\n",
    "        is_valid = torch.tensor([m.GetNumAtoms() > 1 for m in mols ]).bool()\n",
    "        if not is_valid.any():\n",
    "            return ObjectProperties(torch.zeros((0,3))), is_valid\n",
    "        valid_mols = [mol for mol, valid in zip(mols, is_valid) if valid]\n",
    "        def reward_func(m):\n",
    "            m_smiles = Chem.MolToSmiles(m)\n",
    "            m_vec = fragance_propabilities_from_smiles(m_smiles)[0]\n",
    "            return self.cosine_similarity(TARGET_VEC,m_vec)\n",
    "        \n",
    "        def odor_reward(m):\n",
    "            return int(all(is_odorant(m).astype(int)))\n",
    "        def valid_reward(m):\n",
    "            return int(all(score_molecule(m)))\n",
    "        \n",
    "        #rs = torch.tensor([m.GetRingInfo().NumRings() + get_flour(m) for m in mols]).float()\n",
    "        rs = torch.tensor([[valid_reward(m),odor_reward(m),reward_func(m)] for m in valid_mols]).float()\n",
    "        #rs = torch.tensor([reward_func(m) for m in valid_mols]).float()\n",
    "        return ObjectProperties(rs), is_valid\n",
    "    \n",
    "    def cosine_similarity(self,vec1,vec2):\n",
    "        return np.dot(vec1,vec2)/(norm(vec1)*norm(vec2))\n",
    "\n",
    "\n",
    "class MakeRingsTrainer(StandardOnlineTrainer):\n",
    "    def set_default_hps(self, cfg: Config):\n",
    "        \n",
    "        cfg.hostname = socket.gethostname()\n",
    "        cfg.num_workers = 8\n",
    "        cfg.algo.num_from_policy = 64\n",
    "        cfg.model.num_emb = 128\n",
    "        cfg.model.num_layers = 4\n",
    "\n",
    "        cfg.algo.method = \"TB\"\n",
    "        cfg.algo.max_nodes = 20\n",
    "        cfg.algo.sampling_tau = 0.9\n",
    "        cfg.algo.illegal_action_logreward = -75\n",
    "        cfg.algo.train_random_action_prob = 0.0\n",
    "        cfg.algo.valid_random_action_prob = 0.0\n",
    "        cfg.algo.tb.do_parameterize_p_b = True\n",
    "\n",
    "        cfg.replay.use = False\n",
    "\n",
    "    def setup_task(self):\n",
    "        self.task = MakeRingsTask(self.cfg)\n",
    "\n",
    "    def setup_env_context(self):\n",
    "        self.ctx = MolBuildingEnvContext(\n",
    "            [\"C\",\"N\",\"O\",\"F\"],\n",
    "            charges=[0],  # disable charge\n",
    "            chiral_types=[Chem.rdchem.ChiralType.CHI_UNSPECIFIED],  # disable chirality\n",
    "            num_rw_feat=0,\n",
    "            expl_H_range=[0],\n",
    "            max_nodes=self.cfg.algo.max_nodes,\n",
    "            num_cond_dim=1,\n",
    "        )\n",
    "\n",
    "    \n",
    "\n",
    "\n",
    "def save_run(trial):\n",
    "    state = {\n",
    "        \"models_state_dict\": [trial.model.state_dict()],\n",
    "        \"cfg\": trial.cfg,\n",
    "        \"env_ctx\": trial.model.env_ctx,\n",
    "        #\"model\": trial.model,\n",
    "    }\n",
    "    if trial.sampling_model is not trial.model:\n",
    "        state[\"sampling_model_state_dict\"] = [trial.sampling_model.state_dict()]\n",
    "    fn = pathlib.Path(trial.cfg.log_dir) / \"model_final_save.pt\"\n",
    "    with open(fn, \"wb\") as fd:\n",
    "        torch.save(\n",
    "            state,\n",
    "            fd,\n",
    "        )\n",
    "\n",
    "\n",
    "\n",
    "\n",
    "  \n",
    "\n"
   ]
  },
  {
   "cell_type": "code",
   "execution_count": null,
   "metadata": {},
   "outputs": [],
   "source": []
  },
  {
   "cell_type": "code",
   "execution_count": 3,
   "metadata": {},
   "outputs": [
    {
     "name": "stdout",
     "output_type": "stream",
     "text": [
      "\n",
      "\n",
      "Hyperparameters:\n",
      "\n",
      "desc: noDesc\n",
      "log_dir: ./logs/debug_run_mr13\n",
      "device: cpu\n",
      "seed: 1\n",
      "validate_every: 1000\n",
      "checkpoint_every: null\n",
      "store_all_checkpoints: false\n",
      "print_every: 1\n",
      "start_at_step: 0\n",
      "num_final_gen_steps: null\n",
      "num_validation_gen_steps: 1\n",
      "num_training_steps: 50\n",
      "num_workers: 0\n",
      "hostname: LAPTOP-JIE0TNQT\n",
      "pickle_mp_messages: false\n",
      "git_hash: unknown\n",
      "overwrite_existing_exp: false\n",
      "algo:\n",
      "  method: TB\n",
      "  num_from_policy: 64\n",
      "  num_from_dataset: 0\n",
      "  valid_num_from_policy: 64\n",
      "  valid_num_from_dataset: 0\n",
      "  max_len: 128\n",
      "  max_nodes: 20\n",
      "  max_edges: 128\n",
      "  illegal_action_logreward: -75.0\n",
      "  train_random_action_prob: 0.0\n",
      "  train_det_after: null\n",
      "  valid_random_action_prob: 0.0\n",
      "  sampling_tau: 0.9\n",
      "  tb:\n",
      "    bootstrap_own_reward: false\n",
      "    epsilon: null\n",
      "    reward_loss_multiplier: 1.0\n",
      "    variant: TB\n",
      "    do_correct_idempotent: false\n",
      "    do_parameterize_p_b: false\n",
      "    do_predict_n: false\n",
      "    do_sample_p_b: false\n",
      "    do_length_normalize: false\n",
      "    subtb_max_len: 128\n",
      "    Z_learning_rate: 0.0001\n",
      "    Z_lr_decay: 50000.0\n",
      "    cum_subtb: true\n",
      "    loss_fn: MSE\n",
      "    loss_fn_par: 1.0\n",
      "    n_loss: none\n",
      "    n_loss_multiplier: 1.0\n",
      "    backward_policy: Uniform\n",
      "  moql:\n",
      "    gamma: 1.0\n",
      "    num_omega_samples: 32\n",
      "    num_objectives: 2\n",
      "    lambda_decay: 10000\n",
      "    penalty: -10.0\n",
      "  a2c:\n",
      "    entropy: 0.01\n",
      "    gamma: 1.0\n",
      "    penalty: -10.0\n",
      "  fm:\n",
      "    epsilon: 1.0e-38\n",
      "    balanced_loss: false\n",
      "    leaf_coef: 10.0\n",
      "    correct_idempotent: false\n",
      "  sql:\n",
      "    alpha: 0.01\n",
      "    gamma: 1.0\n",
      "    penalty: -10.0\n",
      "model:\n",
      "  num_layers: 4\n",
      "  num_emb: 128\n",
      "  dropout: 0.0\n",
      "  graph_transformer:\n",
      "    num_heads: 2\n",
      "    ln_type: pre\n",
      "    num_mlp_layers: 0\n",
      "    concat_heads: true\n",
      "  seq_transformer:\n",
      "    num_heads: 2\n",
      "    posenc: Rotary\n",
      "opt:\n",
      "  opt: adam\n",
      "  learning_rate: 0.0001\n",
      "  lr_decay: 20000.0\n",
      "  weight_decay: 1.0e-08\n",
      "  momentum: 0.9\n",
      "  clip_grad_type: norm\n",
      "  clip_grad_param: 10.0\n",
      "  adam_eps: 1.0e-08\n",
      "replay:\n",
      "  use: false\n",
      "  capacity: null\n",
      "  warmup: null\n",
      "  hindsight_ratio: 0.0\n",
      "  num_from_replay: null\n",
      "  num_new_samples: null\n",
      "task:\n",
      "  qm9:\n",
      "    h5_path: ./data/qm9/qm9.h5\n",
      "    model_path: ./data/qm9/qm9_model.pt\n",
      "  qm9_moo:\n",
      "    n_valid: 15\n",
      "    n_valid_repeats: 128\n",
      "    objectives:\n",
      "    - gap\n",
      "    - qed\n",
      "    - sa\n",
      "    online_pareto_front: true\n",
      "  seh:\n",
      "    reduced_frag: false\n",
      "  seh_moo:\n",
      "    n_valid: 15\n",
      "    n_valid_repeats: 128\n",
      "    objectives:\n",
      "    - seh\n",
      "    - qed\n",
      "    - sa\n",
      "    - mw\n",
      "    log_topk: false\n",
      "    online_pareto_front: true\n",
      "cond:\n",
      "  valid_sample_cond_info: true\n",
      "  temperature:\n",
      "    sample_dist: uniform\n",
      "    dist_params:\n",
      "    - 0.5\n",
      "    - 32\n",
      "    num_thermometer_dim: 32\n",
      "  moo:\n",
      "    num_objectives: 2\n",
      "    num_thermometer_dim: 16\n",
      "  weighted_prefs:\n",
      "    preference_type: dirichlet\n",
      "    preference_param: 1.5\n",
      "  focus_region:\n",
      "    focus_type: centered\n",
      "    use_steer_thermomether: false\n",
      "    focus_cosim: 0.98\n",
      "    focus_limit_coef: 0.1\n",
      "    focus_model_training_limits:\n",
      "    - 0.25\n",
      "    - 0.75\n",
      "    focus_model_state_space_res: 30\n",
      "    max_train_it: 20000\n",
      "\n",
      "02/04/2025 10:40:23 - INFO - logger - Starting training\n",
      "02/04/2025 10:40:39 - INFO - logger - iteration 1 : offline_loss:0.00 online_loss:2981.76 reward_loss:0.00 invalid_trajectories:0.00 invalid_logprob:0.00 invalid_losses:0.00 backward_vs_unif:0.00 logZ:-0.10 loss:2981.76 n_loss:0.00 tb_loss:2981.76 batch_entropy:33.23 traj_lens:13.70 grad_norm:1471.15 grad_norm_clip:89.00 sampled_reward_avg:0.09 train_time:3.59 time_spent:16.25\n",
      "02/04/2025 10:40:55 - INFO - logger - iteration 2 : offline_loss:0.00 online_loss:2944.79 reward_loss:0.00 invalid_trajectories:0.00 invalid_logprob:0.00 invalid_losses:0.00 backward_vs_unif:0.00 logZ:-0.14 loss:2944.79 n_loss:0.00 tb_loss:2944.79 batch_entropy:32.54 traj_lens:13.48 grad_norm:2734.15 grad_norm_clip:92.31 sampled_reward_avg:0.09 train_time:3.33 time_spent:15.72\n",
      "02/04/2025 10:41:11 - INFO - logger - iteration 3 : offline_loss:0.00 online_loss:2617.07 reward_loss:0.00 invalid_trajectories:0.00 invalid_logprob:0.00 invalid_losses:0.00 backward_vs_unif:0.00 logZ:-0.18 loss:2617.07 n_loss:0.00 tb_loss:2617.07 batch_entropy:34.41 traj_lens:13.64 grad_norm:3499.40 grad_norm_clip:94.16 sampled_reward_avg:0.20 train_time:3.77 time_spent:16.83\n",
      "02/04/2025 10:41:30 - INFO - logger - iteration 4 : offline_loss:0.00 online_loss:2859.21 reward_loss:0.00 invalid_trajectories:0.00 invalid_logprob:0.00 invalid_losses:0.00 backward_vs_unif:0.00 logZ:-0.23 loss:2859.21 n_loss:0.00 tb_loss:2859.21 batch_entropy:38.07 traj_lens:14.66 grad_norm:5229.60 grad_norm_clip:96.22 sampled_reward_avg:0.08 train_time:4.95 time_spent:18.81\n",
      "02/04/2025 10:41:49 - INFO - logger - iteration 5 : offline_loss:0.00 online_loss:2674.91 reward_loss:0.00 invalid_trajectories:0.00 invalid_logprob:0.00 invalid_losses:0.00 backward_vs_unif:0.00 logZ:-0.27 loss:2674.91 n_loss:0.00 tb_loss:2674.91 batch_entropy:43.12 traj_lens:15.36 grad_norm:5632.48 grad_norm_clip:97.37 sampled_reward_avg:0.06 train_time:5.07 time_spent:18.80\n",
      "02/04/2025 10:42:11 - INFO - logger - iteration 6 : offline_loss:0.00 online_loss:2395.63 reward_loss:0.00 invalid_trajectories:0.00 invalid_logprob:0.00 invalid_losses:0.00 backward_vs_unif:0.00 logZ:-0.31 loss:2395.63 n_loss:0.00 tb_loss:2395.63 batch_entropy:50.19 traj_lens:18.06 grad_norm:7212.85 grad_norm_clip:98.10 sampled_reward_avg:0.08 train_time:6.53 time_spent:22.16\n",
      "02/04/2025 10:42:30 - INFO - logger - iteration 7 : offline_loss:0.00 online_loss:2436.61 reward_loss:0.00 invalid_trajectories:0.00 invalid_logprob:0.00 invalid_losses:0.00 backward_vs_unif:0.00 logZ:-0.36 loss:2436.61 n_loss:0.00 tb_loss:2436.61 batch_entropy:40.74 traj_lens:14.75 grad_norm:6582.62 grad_norm_clip:97.59 sampled_reward_avg:0.09 train_time:4.98 time_spent:18.45\n",
      "02/04/2025 10:42:54 - INFO - logger - iteration 8 : offline_loss:0.00 online_loss:2078.76 reward_loss:0.00 invalid_trajectories:0.00 invalid_logprob:0.00 invalid_losses:0.00 backward_vs_unif:0.00 logZ:-0.40 loss:2078.76 n_loss:0.00 tb_loss:2078.76 batch_entropy:58.60 traj_lens:19.59 grad_norm:8276.94 grad_norm_clip:98.44 sampled_reward_avg:0.09 train_time:8.12 time_spent:24.79\n",
      "02/04/2025 10:43:19 - INFO - logger - iteration 9 : offline_loss:0.00 online_loss:1989.80 reward_loss:0.00 invalid_trajectories:0.00 invalid_logprob:0.00 invalid_losses:0.00 backward_vs_unif:0.00 logZ:-0.45 loss:1989.80 n_loss:0.00 tb_loss:1989.80 batch_entropy:55.50 traj_lens:19.56 grad_norm:9084.44 grad_norm_clip:98.78 sampled_reward_avg:0.12 train_time:7.78 time_spent:24.26\n",
      "02/04/2025 10:43:50 - INFO - logger - iteration 10 : offline_loss:0.00 online_loss:1823.72 reward_loss:0.00 invalid_trajectories:0.00 invalid_logprob:0.00 invalid_losses:0.00 backward_vs_unif:0.00 logZ:-0.49 loss:1823.72 n_loss:0.00 tb_loss:1823.72 batch_entropy:72.80 traj_lens:24.80 grad_norm:11424.37 grad_norm_clip:98.82 sampled_reward_avg:0.06 train_time:11.81 time_spent:31.41\n",
      "02/04/2025 10:44:19 - INFO - logger - iteration 11 : offline_loss:0.00 online_loss:1874.97 reward_loss:0.00 invalid_trajectories:0.00 invalid_logprob:0.00 invalid_losses:0.00 backward_vs_unif:0.00 logZ:-0.53 loss:1874.97 n_loss:0.00 tb_loss:1874.97 batch_entropy:68.91 traj_lens:24.11 grad_norm:12255.09 grad_norm_clip:98.69 sampled_reward_avg:0.09 train_time:10.43 time_spent:29.40\n",
      "02/04/2025 10:44:55 - INFO - logger - iteration 12 : offline_loss:0.00 online_loss:1644.28 reward_loss:0.00 invalid_trajectories:0.00 invalid_logprob:0.00 invalid_losses:0.00 backward_vs_unif:0.00 logZ:-0.58 loss:1644.28 n_loss:0.00 tb_loss:1644.28 batch_entropy:84.60 traj_lens:28.66 grad_norm:14731.36 grad_norm_clip:99.23 sampled_reward_avg:0.05 train_time:12.99 time_spent:35.57\n",
      "02/04/2025 10:45:27 - INFO - logger - iteration 13 : offline_loss:0.00 online_loss:2152.52 reward_loss:0.00 invalid_trajectories:0.00 invalid_logprob:0.00 invalid_losses:0.00 backward_vs_unif:0.00 logZ:-0.62 loss:2152.52 n_loss:0.00 tb_loss:2152.52 batch_entropy:73.82 traj_lens:27.72 grad_norm:13905.50 grad_norm_clip:99.23 sampled_reward_avg:0.08 train_time:12.02 time_spent:31.93\n",
      "02/04/2025 10:46:01 - INFO - logger - iteration 14 : offline_loss:0.00 online_loss:1557.11 reward_loss:0.00 invalid_trajectories:0.00 invalid_logprob:0.00 invalid_losses:0.00 backward_vs_unif:0.00 logZ:-0.66 loss:1557.11 n_loss:0.00 tb_loss:1557.11 batch_entropy:70.84 traj_lens:31.41 grad_norm:7068.53 grad_norm_clip:94.72 sampled_reward_avg:1.00 train_time:13.40 time_spent:33.94\n",
      "02/04/2025 10:46:36 - INFO - logger - iteration 15 : offline_loss:0.00 online_loss:1247.43 reward_loss:0.00 invalid_trajectories:0.00 invalid_logprob:0.00 invalid_losses:0.00 backward_vs_unif:0.00 logZ:-0.71 loss:1247.43 n_loss:0.00 tb_loss:1247.43 batch_entropy:64.14 traj_lens:32.62 grad_norm:1919.50 grad_norm_clip:85.45 sampled_reward_avg:0.98 train_time:13.56 time_spent:34.93\n",
      "02/04/2025 10:47:09 - INFO - logger - iteration 16 : offline_loss:0.00 online_loss:853.49 reward_loss:0.00 invalid_trajectories:0.00 invalid_logprob:0.00 invalid_losses:0.00 backward_vs_unif:0.00 logZ:-0.75 loss:853.49 n_loss:0.00 tb_loss:853.49 batch_entropy:52.66 traj_lens:32.33 grad_norm:989.01 grad_norm_clip:81.76 sampled_reward_avg:1.23 train_time:13.45 time_spent:33.65\n",
      "02/04/2025 10:47:43 - INFO - logger - iteration 17 : offline_loss:0.00 online_loss:1209.71 reward_loss:0.00 invalid_trajectories:0.00 invalid_logprob:0.00 invalid_losses:0.00 backward_vs_unif:0.00 logZ:-0.79 loss:1209.71 n_loss:0.00 tb_loss:1209.71 batch_entropy:43.13 traj_lens:32.08 grad_norm:3869.31 grad_norm_clip:91.31 sampled_reward_avg:1.19 train_time:13.16 time_spent:33.23\n",
      "02/04/2025 10:48:18 - INFO - logger - iteration 18 : offline_loss:0.00 online_loss:1865.90 reward_loss:0.00 invalid_trajectories:0.00 invalid_logprob:0.00 invalid_losses:0.00 backward_vs_unif:0.00 logZ:-0.83 loss:1865.90 n_loss:0.00 tb_loss:1865.90 batch_entropy:37.35 traj_lens:35.38 grad_norm:4042.42 grad_norm_clip:91.55 sampled_reward_avg:1.34 train_time:14.39 time_spent:35.51\n",
      "02/04/2025 10:48:53 - INFO - logger - iteration 19 : offline_loss:0.00 online_loss:1988.12 reward_loss:0.00 invalid_trajectories:0.00 invalid_logprob:0.00 invalid_losses:0.00 backward_vs_unif:0.00 logZ:-0.88 loss:1988.12 n_loss:0.00 tb_loss:1988.12 batch_entropy:31.52 traj_lens:34.41 grad_norm:3127.33 grad_norm_clip:88.97 sampled_reward_avg:1.27 train_time:14.55 time_spent:34.62\n",
      "02/04/2025 10:49:28 - INFO - logger - iteration 20 : offline_loss:0.00 online_loss:2143.70 reward_loss:0.00 invalid_trajectories:0.00 invalid_logprob:0.00 invalid_losses:0.00 backward_vs_unif:0.00 logZ:-0.92 loss:2143.70 n_loss:0.00 tb_loss:2143.70 batch_entropy:29.04 traj_lens:34.47 grad_norm:2285.64 grad_norm_clip:85.53 sampled_reward_avg:1.33 train_time:14.35 time_spent:35.23\n",
      "02/04/2025 10:50:04 - INFO - logger - iteration 21 : offline_loss:0.00 online_loss:2675.92 reward_loss:0.00 invalid_trajectories:0.00 invalid_logprob:0.00 invalid_losses:0.00 backward_vs_unif:0.00 logZ:-0.96 loss:2675.92 n_loss:0.00 tb_loss:2675.92 batch_entropy:24.34 traj_lens:36.12 grad_norm:2112.51 grad_norm_clip:85.63 sampled_reward_avg:1.19 train_time:14.87 time_spent:35.62\n",
      "02/04/2025 10:50:39 - INFO - logger - iteration 22 : offline_loss:0.00 online_loss:3004.04 reward_loss:0.00 invalid_trajectories:0.00 invalid_logprob:0.00 invalid_losses:0.00 backward_vs_unif:0.00 logZ:-1.01 loss:3004.04 n_loss:0.00 tb_loss:3004.04 batch_entropy:21.12 traj_lens:36.52 grad_norm:1759.09 grad_norm_clip:84.06 sampled_reward_avg:1.20 train_time:14.90 time_spent:34.99\n",
      "02/04/2025 10:51:14 - INFO - logger - iteration 23 : offline_loss:0.00 online_loss:3515.74 reward_loss:0.00 invalid_trajectories:0.00 invalid_logprob:0.00 invalid_losses:0.00 backward_vs_unif:0.00 logZ:-1.05 loss:3515.74 n_loss:0.00 tb_loss:3515.74 batch_entropy:16.87 traj_lens:36.25 grad_norm:1137.92 grad_norm_clip:80.79 sampled_reward_avg:1.03 train_time:14.68 time_spent:35.07\n",
      "02/04/2025 10:51:52 - INFO - logger - iteration 24 : offline_loss:0.00 online_loss:3564.69 reward_loss:0.00 invalid_trajectories:0.00 invalid_logprob:0.00 invalid_losses:0.00 backward_vs_unif:0.00 logZ:-1.10 loss:3564.69 n_loss:0.00 tb_loss:3564.69 batch_entropy:16.36 traj_lens:37.84 grad_norm:1153.61 grad_norm_clip:79.99 sampled_reward_avg:1.03 train_time:16.68 time_spent:37.82\n",
      "02/04/2025 10:52:36 - INFO - logger - iteration 25 : offline_loss:0.00 online_loss:3987.39 reward_loss:0.00 invalid_trajectories:0.00 invalid_logprob:0.00 invalid_losses:0.00 backward_vs_unif:0.00 logZ:-1.14 loss:3987.39 n_loss:0.00 tb_loss:3987.39 batch_entropy:14.38 traj_lens:39.09 grad_norm:1129.32 grad_norm_clip:79.57 sampled_reward_avg:1.00 train_time:16.67 time_spent:44.28\n",
      "02/04/2025 10:53:11 - INFO - logger - iteration 26 : offline_loss:0.00 online_loss:3505.33 reward_loss:0.00 invalid_trajectories:0.00 invalid_logprob:0.00 invalid_losses:0.00 backward_vs_unif:0.00 logZ:-1.19 loss:3505.33 n_loss:0.00 tb_loss:3505.33 batch_entropy:15.31 traj_lens:38.12 grad_norm:1089.47 grad_norm_clip:78.96 sampled_reward_avg:1.81 train_time:15.61 time_spent:35.60\n",
      "02/04/2025 10:53:47 - INFO - logger - iteration 27 : offline_loss:0.00 online_loss:3610.73 reward_loss:0.00 invalid_trajectories:0.00 invalid_logprob:0.00 invalid_losses:0.00 backward_vs_unif:0.00 logZ:-1.23 loss:3610.73 n_loss:0.00 tb_loss:3610.73 batch_entropy:14.55 traj_lens:38.25 grad_norm:1366.06 grad_norm_clip:79.42 sampled_reward_avg:1.78 train_time:15.93 time_spent:36.01\n",
      "02/04/2025 10:54:24 - INFO - logger - iteration 28 : offline_loss:0.00 online_loss:3527.10 reward_loss:0.00 invalid_trajectories:0.00 invalid_logprob:0.00 invalid_losses:0.00 backward_vs_unif:0.00 logZ:-1.28 loss:3527.10 n_loss:0.00 tb_loss:3527.10 batch_entropy:14.10 traj_lens:37.75 grad_norm:2579.14 grad_norm_clip:81.94 sampled_reward_avg:1.82 train_time:15.26 time_spent:36.39\n",
      "02/04/2025 10:54:59 - INFO - logger - iteration 29 : offline_loss:0.00 online_loss:3331.61 reward_loss:0.00 invalid_trajectories:0.00 invalid_logprob:0.00 invalid_losses:0.00 backward_vs_unif:0.00 logZ:-1.32 loss:3331.61 n_loss:0.00 tb_loss:3331.61 batch_entropy:13.62 traj_lens:36.05 grad_norm:6311.82 grad_norm_clip:87.04 sampled_reward_avg:1.73 train_time:14.64 time_spent:35.05\n",
      "02/04/2025 10:55:35 - INFO - logger - iteration 30 : offline_loss:0.00 online_loss:3123.63 reward_loss:0.00 invalid_trajectories:0.00 invalid_logprob:0.00 invalid_losses:0.00 backward_vs_unif:0.00 logZ:-1.37 loss:3123.63 n_loss:0.00 tb_loss:3123.63 batch_entropy:14.91 traj_lens:36.75 grad_norm:15680.38 grad_norm_clip:92.00 sampled_reward_avg:1.75 train_time:14.64 time_spent:35.64\n",
      "02/04/2025 10:56:11 - INFO - logger - iteration 31 : offline_loss:0.00 online_loss:3039.42 reward_loss:0.00 invalid_trajectories:0.00 invalid_logprob:0.00 invalid_losses:0.00 backward_vs_unif:0.00 logZ:-1.42 loss:3039.42 n_loss:0.00 tb_loss:3039.42 batch_entropy:19.71 traj_lens:38.69 grad_norm:39535.62 grad_norm_clip:93.06 sampled_reward_avg:1.75 train_time:15.90 time_spent:36.83\n",
      "02/04/2025 10:56:46 - INFO - logger - iteration 32 : offline_loss:0.00 online_loss:1870.03 reward_loss:0.00 invalid_trajectories:0.00 invalid_logprob:0.00 invalid_losses:0.00 backward_vs_unif:0.00 logZ:-1.47 loss:1870.03 n_loss:0.00 tb_loss:1870.03 batch_entropy:26.66 traj_lens:36.81 grad_norm:49377.44 grad_norm_clip:92.74 sampled_reward_avg:1.78 train_time:14.50 time_spent:34.48\n",
      "02/04/2025 10:57:17 - INFO - logger - iteration 33 : offline_loss:0.00 online_loss:729.04 reward_loss:0.00 invalid_trajectories:0.00 invalid_logprob:0.00 invalid_losses:0.00 backward_vs_unif:0.00 logZ:-1.51 loss:729.04 n_loss:0.00 tb_loss:729.04 batch_entropy:34.81 traj_lens:33.52 grad_norm:38644.37 grad_norm_clip:92.87 sampled_reward_avg:1.74 train_time:13.05 time_spent:31.10\n",
      "02/04/2025 10:57:44 - INFO - logger - iteration 34 : offline_loss:0.00 online_loss:160.01 reward_loss:0.00 invalid_trajectories:0.00 invalid_logprob:0.00 invalid_losses:0.00 backward_vs_unif:0.00 logZ:-1.56 loss:160.01 n_loss:0.00 tb_loss:160.01 batch_entropy:40.87 traj_lens:29.42 grad_norm:12659.82 grad_norm_clip:90.95 sampled_reward_avg:1.67 train_time:10.29 time_spent:27.01\n",
      "02/04/2025 10:58:05 - INFO - logger - iteration 35 : offline_loss:0.00 online_loss:39.04 reward_loss:0.00 invalid_trajectories:0.00 invalid_logprob:0.00 invalid_losses:0.00 backward_vs_unif:0.00 logZ:-1.61 loss:39.04 n_loss:0.00 tb_loss:39.04 batch_entropy:38.41 traj_lens:23.28 grad_norm:7199.90 grad_norm_clip:85.70 sampled_reward_avg:1.58 train_time:7.15 time_spent:21.01\n",
      "02/04/2025 10:58:25 - INFO - logger - iteration 36 : offline_loss:0.00 online_loss:245.33 reward_loss:0.00 invalid_trajectories:0.00 invalid_logprob:0.00 invalid_losses:0.00 backward_vs_unif:0.00 logZ:-1.65 loss:245.33 n_loss:0.00 tb_loss:245.33 batch_entropy:38.56 traj_lens:21.02 grad_norm:15269.75 grad_norm_clip:91.49 sampled_reward_avg:1.63 train_time:6.09 time_spent:19.62\n",
      "02/04/2025 10:58:38 - INFO - logger - iteration 37 : offline_loss:0.00 online_loss:272.59 reward_loss:0.00 invalid_trajectories:0.00 invalid_logprob:0.00 invalid_losses:0.00 backward_vs_unif:0.00 logZ:-1.67 loss:272.59 n_loss:0.00 tb_loss:272.59 batch_entropy:25.45 traj_lens:15.58 grad_norm:8713.94 grad_norm_clip:90.21 sampled_reward_avg:1.53 train_time:3.16 time_spent:13.79\n",
      "02/04/2025 10:58:52 - INFO - logger - iteration 38 : offline_loss:0.00 online_loss:303.75 reward_loss:0.00 invalid_trajectories:0.00 invalid_logprob:0.00 invalid_losses:0.00 backward_vs_unif:0.00 logZ:-1.69 loss:303.75 n_loss:0.00 tb_loss:303.75 batch_entropy:19.65 traj_lens:13.11 grad_norm:6276.09 grad_norm_clip:87.15 sampled_reward_avg:1.31 train_time:2.32 time_spent:13.87\n",
      "02/04/2025 10:59:03 - INFO - logger - iteration 39 : offline_loss:0.00 online_loss:392.22 reward_loss:0.00 invalid_trajectories:0.00 invalid_logprob:0.00 invalid_losses:0.00 backward_vs_unif:0.00 logZ:-1.71 loss:392.22 n_loss:0.00 tb_loss:392.22 batch_entropy:13.42 traj_lens:10.75 grad_norm:3321.18 grad_norm_clip:80.42 sampled_reward_avg:1.16 train_time:1.68 time_spent:11.04\n",
      "02/04/2025 10:59:14 - INFO - logger - iteration 40 : offline_loss:0.00 online_loss:582.27 reward_loss:0.00 invalid_trajectories:0.00 invalid_logprob:0.00 invalid_losses:0.00 backward_vs_unif:0.00 logZ:-1.72 loss:582.27 n_loss:0.00 tb_loss:582.27 batch_entropy:9.87 traj_lens:9.38 grad_norm:2074.08 grad_norm_clip:80.01 sampled_reward_avg:1.04 train_time:1.41 time_spent:10.24\n",
      "02/04/2025 10:59:24 - INFO - logger - iteration 41 : offline_loss:0.00 online_loss:361.47 reward_loss:0.00 invalid_trajectories:0.00 invalid_logprob:0.00 invalid_losses:0.00 backward_vs_unif:0.00 logZ:-1.73 loss:361.47 n_loss:0.00 tb_loss:361.47 batch_entropy:7.66 traj_lens:8.70 grad_norm:1259.27 grad_norm_clip:77.12 sampled_reward_avg:0.92 train_time:1.14 time_spent:10.07\n",
      "02/04/2025 10:59:32 - INFO - logger - iteration 42 : offline_loss:0.00 online_loss:765.70 reward_loss:0.00 invalid_trajectories:0.00 invalid_logprob:0.00 invalid_losses:0.00 backward_vs_unif:0.00 logZ:-1.75 loss:765.70 n_loss:0.00 tb_loss:765.70 batch_entropy:5.40 traj_lens:7.84 grad_norm:1006.02 grad_norm_clip:77.11 sampled_reward_avg:0.84 train_time:0.98 time_spent:8.77\n",
      "02/04/2025 10:59:40 - INFO - logger - iteration 43 : offline_loss:0.00 online_loss:891.32 reward_loss:0.00 invalid_trajectories:0.00 invalid_logprob:0.00 invalid_losses:0.00 backward_vs_unif:0.00 logZ:-1.77 loss:891.32 n_loss:0.00 tb_loss:891.32 batch_entropy:3.62 traj_lens:7.06 grad_norm:987.28 grad_norm_clip:77.10 sampled_reward_avg:0.68 train_time:0.82 time_spent:7.67\n",
      "02/04/2025 10:59:49 - INFO - logger - iteration 44 : offline_loss:0.00 online_loss:742.99 reward_loss:0.00 invalid_trajectories:0.00 invalid_logprob:0.00 invalid_losses:0.00 backward_vs_unif:0.00 logZ:-1.80 loss:742.99 n_loss:0.00 tb_loss:742.99 batch_entropy:2.93 traj_lens:6.47 grad_norm:882.22 grad_norm_clip:75.92 sampled_reward_avg:0.68 train_time:0.89 time_spent:8.58\n",
      "02/04/2025 10:59:58 - INFO - logger - iteration 45 : offline_loss:0.00 online_loss:663.99 reward_loss:0.00 invalid_trajectories:0.00 invalid_logprob:0.00 invalid_losses:0.00 backward_vs_unif:0.00 logZ:-1.82 loss:663.99 n_loss:0.00 tb_loss:663.99 batch_entropy:3.44 traj_lens:7.11 grad_norm:890.31 grad_norm_clip:75.59 sampled_reward_avg:0.68 train_time:0.89 time_spent:8.89\n",
      "02/04/2025 11:00:07 - INFO - logger - iteration 46 : offline_loss:0.00 online_loss:327.25 reward_loss:0.00 invalid_trajectories:0.00 invalid_logprob:0.00 invalid_losses:0.00 backward_vs_unif:0.00 logZ:-1.85 loss:327.25 n_loss:0.00 tb_loss:327.25 batch_entropy:3.46 traj_lens:7.88 grad_norm:415.56 grad_norm_clip:66.83 sampled_reward_avg:0.81 train_time:1.03 time_spent:9.15\n",
      "02/04/2025 11:00:16 - INFO - logger - iteration 47 : offline_loss:0.00 online_loss:448.47 reward_loss:0.00 invalid_trajectories:0.00 invalid_logprob:0.00 invalid_losses:0.00 backward_vs_unif:0.00 logZ:-1.88 loss:448.47 n_loss:0.00 tb_loss:448.47 batch_entropy:4.31 traj_lens:8.45 grad_norm:655.93 grad_norm_clip:72.73 sampled_reward_avg:0.87 train_time:1.19 time_spent:9.50\n",
      "02/04/2025 11:00:25 - INFO - logger - iteration 48 : offline_loss:0.00 online_loss:557.58 reward_loss:0.00 invalid_trajectories:0.00 invalid_logprob:0.00 invalid_losses:0.00 backward_vs_unif:0.00 logZ:-1.92 loss:557.58 n_loss:0.00 tb_loss:557.58 batch_entropy:5.01 traj_lens:8.09 grad_norm:865.99 grad_norm_clip:74.67 sampled_reward_avg:0.85 train_time:1.05 time_spent:9.02\n",
      "02/04/2025 11:00:36 - INFO - logger - iteration 49 : offline_loss:0.00 online_loss:256.22 reward_loss:0.00 invalid_trajectories:0.00 invalid_logprob:0.00 invalid_losses:0.00 backward_vs_unif:0.00 logZ:-1.95 loss:256.22 n_loss:0.00 tb_loss:256.22 batch_entropy:5.78 traj_lens:9.78 grad_norm:418.20 grad_norm_clip:67.64 sampled_reward_avg:1.07 train_time:1.39 time_spent:10.33\n",
      "02/04/2025 11:00:47 - INFO - logger - iteration 50 : offline_loss:0.00 online_loss:89.77 reward_loss:0.00 invalid_trajectories:0.00 invalid_logprob:0.00 invalid_losses:0.00 backward_vs_unif:0.00 logZ:-1.99 loss:89.77 n_loss:0.00 tb_loss:89.77 batch_entropy:6.76 traj_lens:11.59 grad_norm:256.93 grad_norm_clip:64.45 sampled_reward_avg:1.26 train_time:1.58 time_spent:11.56\n"
     ]
    }
   ],
   "source": [
    "\"\"\"Example of how this model can be run.\"\"\"\n",
    "config = init_empty(Config())\n",
    "config.print_every = 1\n",
    "config.log_dir = \"./logs/debug_run_mr13\"\n",
    "\n",
    "# For CPU\n",
    "config.device = torch.device('cpu')\n",
    "config.num_workers = 0\n",
    "\n",
    "# For reproduction\n",
    "config.seed = 1 \n",
    "\n",
    "config.num_training_steps = 50 #10_000\n",
    "\n",
    "config.algo.tb.do_parameterize_p_b = False # Dont know how to load the model with this parameter = True\n",
    "config.num_validation_gen_steps = 1\n",
    "\n",
    "\n",
    "\n",
    "trial = MakeRingsTrainer(config)\n",
    "trial.run()\n",
    "save_run(trial)\n"
   ]
  },
  {
   "cell_type": "markdown",
   "metadata": {},
   "source": [
    "structural similarity\n",
    "different chemical parameter\n",
    "\n",
    "Change reward in later epochs to consider descriptor. \n",
    "\n",
    "1 step invalid "
   ]
  },
  {
   "cell_type": "code",
   "execution_count": null,
   "metadata": {},
   "outputs": [],
   "source": []
  },
  {
   "cell_type": "code",
   "execution_count": 4,
   "metadata": {},
   "outputs": [],
   "source": [
    "from rdkit.Chem.Draw import MolsToGridImage, MolToImage"
   ]
  },
  {
   "cell_type": "code",
   "execution_count": 5,
   "metadata": {},
   "outputs": [],
   "source": [
    "trajs = trial.algo.create_training_data_from_own_samples(trial.model, 25)\n",
    "objs = [trial.ctx.graph_to_obj(i['result']) for i in trajs]"
   ]
  },
  {
   "cell_type": "code",
   "execution_count": 6,
   "metadata": {},
   "outputs": [],
   "source": [
    "obj_props, is_valid = trial.task.compute_obj_properties(objs)"
   ]
  },
  {
   "cell_type": "code",
   "execution_count": 7,
   "metadata": {},
   "outputs": [
    {
     "data": {
      "text/plain": [
       "tensor([True, True, True, True, True, True, True, True, True, True, True, True,\n",
       "        True, True, True, True, True, True, True, True, True, True, True, True,\n",
       "        True])"
      ]
     },
     "execution_count": 7,
     "metadata": {},
     "output_type": "execute_result"
    }
   ],
   "source": [
    "is_valid"
   ]
  },
  {
   "cell_type": "code",
   "execution_count": 8,
   "metadata": {},
   "outputs": [],
   "source": [
    "cond_info = trial.task.sample_conditional_information(len(obj_props), 1)"
   ]
  },
  {
   "cell_type": "code",
   "execution_count": 9,
   "metadata": {},
   "outputs": [
    {
     "data": {
      "text/plain": [
       "tensor([0., 0., 0., 0., 0., 0., 0., 0., 0., 0., 0., 0., 0., 0., 0., 0., 0., 0., 0., 0., 0., 0., 0., 0.,\n",
       "        0.])"
      ]
     },
     "execution_count": 9,
     "metadata": {},
     "output_type": "execute_result"
    }
   ],
   "source": [
    "log_rewards = trial.task.cond_info_to_logreward(cond_info, obj_props)\n",
    "log_rewards"
   ]
  },
  {
   "cell_type": "code",
   "execution_count": 10,
   "metadata": {},
   "outputs": [
    {
     "data": {
      "image/png": "[encoded data removed]",
      "text/plain": [
       "<IPython.core.display.Image object>"
      ]
     },
     "execution_count": 10,
     "metadata": {},
     "output_type": "execute_result"
    }
   ],
   "source": [
    "# Generate molecules\n",
    "trajs = trial.algo.create_training_data_from_own_samples(trial.model, 25)\n",
    "objs = [trial.ctx.graph_to_obj(i['result']) for i in trajs]\n",
    "obj_props, is_valid = trial.task.compute_obj_properties(objs)\n",
    "cond_info = trial.task.sample_conditional_information(len(obj_props), 1)\n",
    "log_rewards = trial.task.cond_info_to_logreward(cond_info, obj_props)\n",
    "\n",
    "\n",
    "MolsToGridImage(objs[:25], molsPerRow=5, subImgSize=(200, 120))#, legends=[f'reward: {r.exp().item():.2f}' for r in log_rewards[:25]])"
   ]
  },
  {
   "cell_type": "code",
   "execution_count": null,
   "metadata": {},
   "outputs": [
    {
     "data": {
      "text/plain": [
       "1"
      ]
     },
     "execution_count": 6,
     "metadata": {},
     "output_type": "execute_result"
    }
   ],
   "source": [
    "2"
   ]
  },
  {
   "cell_type": "markdown",
   "metadata": {},
   "source": [
    "Model training might be wrong\n",
    "\n"
   ]
  },
  {
   "cell_type": "code",
   "execution_count": null,
   "metadata": {},
   "outputs": [],
   "source": []
  },
  {
   "cell_type": "code",
   "execution_count": 7,
   "metadata": {},
   "outputs": [
    {
     "name": "stdout",
     "output_type": "stream",
     "text": [
      "['[O]OO[C]1[CH]O1', '[C]NC(O)C#N', 'COC1[N][CH]O1', 'N=C1C2C3=CC132', 'CN=C(F)O[NH]', 'OONOOO', '[CH]OC(F)OF', 'OON1C2ON21', '[N]n1on1ON', 'CC1CCN1[N]', 'CC=NOO', '[C]N1NC(=[CH])O1', 'N1OC23NN2N13', 'CC(O)(F)CN', 'CN(F)OC#N', 'FNN(F)OF', '[C]OC([O])N=O', 'NN=NC1[C]O1', '[N]C1(O)CN1O', 'n1on2o[nH]c12', '[N][C]1[N]NN1O', 'C1NNN2CN12', 'NC(O)(F)OO', '[NH][C](OO)OF', 'CO[C]=COC']\n"
     ]
    }
   ],
   "source": [
    "print([Chem.MolToSmiles(obj) for obj in objs])"
   ]
  },
  {
   "cell_type": "code",
   "execution_count": 6,
   "metadata": {},
   "outputs": [
    {
     "data": {
      "image/png": "[encoded data removed]",
      "text/plain": [
       "<Figure size 1200x300 with 3 Axes>"
      ]
     },
     "metadata": {},
     "output_type": "display_data"
    }
   ],
   "source": [
    "from gflownet.config import init_empty, Config\n",
    "cfg = init_empty(Config())\n",
    "from tensorboard.backend.event_processing import event_accumulator\n",
    "\n",
    "cfg.log_dir = config.log_dir\n",
    "ea = event_accumulator.EventAccumulator(cfg.log_dir)\n",
    "ea.Reload()\n",
    "\n",
    "import matplotlib.pyplot as pp\n",
    "f, ax = pp.subplots(1, 3, figsize=(4*3,3))\n",
    "ax[0].plot([i.value for i in ea.Scalars('train_loss')])\n",
    "ax[0].set_yscale('log')\n",
    "ax[1].set_ylabel('TB loss')\n",
    "ax[1].plot([i.value for i in ea.Scalars('train_sampled_reward_avg')])\n",
    "ax[1].set_ylabel('Average reward')\n",
    "ax[2].plot([i.value for i in ea.Scalars('train_logZ')])\n",
    "ax[2].set_ylabel('Predicted logZ')\n",
    "pp.tight_layout()"
   ]
  }
 ],
 "metadata": {
  "kernelspec": {
   "display_name": "venv",
   "language": "python",
   "name": "python3"
  },
  "language_info": {
   "codemirror_mode": {
    "name": "ipython",
    "version": 3
   },
   "file_extension": ".py",
   "mimetype": "text/x-python",
   "name": "python",
   "nbconvert_exporter": "python",
   "pygments_lexer": "ipython3",
   "version": "3.10.9"
  }
 },
 "nbformat": 4,
 "nbformat_minor": 2
}
