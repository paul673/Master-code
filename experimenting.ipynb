{
 "cells": [
  {
   "cell_type": "code",
   "execution_count": 1,
   "metadata": {},
   "outputs": [],
   "source": [
    "from rdkit import Chem"
   ]
  },
  {
   "cell_type": "code",
   "execution_count": 43,
   "metadata": {},
   "outputs": [],
   "source": [
    "def iterate_molecule(neighbors, visited, traj, length):\n",
    "    \"\"\"Recursive function to iterate neighbors of a currently visited oxygen atom. Finds oxygen neighbors and attaches thoses to a trajectory.\n",
    "\n",
    "    Args:\n",
    "        neighbors (list): Neighbors of the currently visited oxygen atom.\n",
    "        visited (set): Previously visited oxygen atoms.\n",
    "        traj (set): Trajectory containing atom indexes of the currently discovered oxygen chain.\n",
    "        length (int): Current trajectory length\n",
    "\n",
    "    Returns:\n",
    "        traj (set): Trajectory containing atom indexes of the currently discovered oxygen chain.\n",
    "        visited (set): Previously visited oxygen atoms\n",
    "        length (int): Current trajectory length\n",
    "    \"\"\"\n",
    "    for neighbor in neighbors:\n",
    "        if neighbor.GetAtomicNum() != 8 or neighbor.GetIdx() in visited:\n",
    "            continue\n",
    "        visited.add(neighbor.GetIdx())\n",
    "        traj.add(neighbor.GetIdx())\n",
    "        length += 1\n",
    "        traj, visited, length = iterate_molecule(neighbor.GetNeighbors(), visited,traj,length)\n",
    "    return traj, visited, length"
   ]
  },
  {
   "cell_type": "code",
   "execution_count": 47,
   "metadata": {},
   "outputs": [],
   "source": [
    "def okygen_chains(smiles):\n",
    "    mol = Chem.MolFromSmiles(smiles)\n",
    "    visited = set()\n",
    "    trajs = []\n",
    "    lengths = {}\n",
    "    for atom in mol.GetAtoms():\n",
    "        if atom.GetAtomicNum() != 8 or atom.GetIdx() in visited:\n",
    "            continue\n",
    "        visited.add(atom.GetIdx())\n",
    "        neighbors = atom.GetNeighbors()\n",
    "        traj = {atom.GetIdx()}\n",
    "        length = 1\n",
    "        traj, visited, length  = iterate_molecule(neighbors,visited, traj, length)\n",
    "\n",
    "        trajs.append(traj)\n",
    "        if length in lengths.keys():\n",
    "            lengths[length] += 1\n",
    "        else:\n",
    "            lengths[length] = 1\n",
    "    return trajs,lengths\n"
   ]
  },
  {
   "cell_type": "code",
   "execution_count": 48,
   "metadata": {},
   "outputs": [
    {
     "data": {
      "image/png": "[encoded data removed]",
      "text/plain": [
       "<rdkit.Chem.rdchem.Mol at 0x23d112ad0e0>"
      ]
     },
     "execution_count": 48,
     "metadata": {},
     "output_type": "execute_result"
    }
   ],
   "source": [
    "smiles=\"C=CC12C(C3(CO)OOO3)C(C)C1(OO)C=CON2O\"\n",
    "Chem.MolFromSmiles(smiles)"
   ]
  },
  {
   "cell_type": "code",
   "execution_count": 49,
   "metadata": {},
   "outputs": [
    {
     "data": {
      "text/plain": [
       "([{6}, {7, 8, 9}, {13, 14}, {17}, {19}], {1: 3, 3: 1, 2: 1})"
      ]
     },
     "execution_count": 49,
     "metadata": {},
     "output_type": "execute_result"
    }
   ],
   "source": [
    "okygen_chains(smiles)"
   ]
  },
  {
   "cell_type": "code",
   "execution_count": 50,
   "metadata": {},
   "outputs": [
    {
     "data": {
      "image/png": "[encoded data removed]",
      "text/plain": [
       "<rdkit.Chem.rdchem.Mol at 0x23d112ad4d0>"
      ]
     },
     "execution_count": 50,
     "metadata": {},
     "output_type": "execute_result"
    }
   ],
   "source": [
    "smiles=\"CC(O)OC12OC(C)(C)OOOOC1(O)C(O)(OO)O2\"\n",
    "Chem.MolFromSmiles(smiles)"
   ]
  },
  {
   "cell_type": "code",
   "execution_count": 80,
   "metadata": {},
   "outputs": [
    {
     "data": {
      "text/plain": [
       "rdkit.Chem.rdmolops.SanitizeFlags.SANITIZE_NONE"
      ]
     },
     "execution_count": 80,
     "metadata": {},
     "output_type": "execute_result"
    }
   ],
   "source": [
    "Chem.MolFromSmiles(\"CC12[C]C34C5C67CC89C%10%11C%12C16C1C6C52C32C6%10C%11C48C92C1%127\")\n",
    "Chem.SanitizeMol(Chem.MolFromSmiles(\"CC12[C]C34C5C67CC89C%10%11C%12C16C1C6C52C32C6%10C%11C48C92C1%127\"))"
   ]
  },
  {
   "cell_type": "code",
   "execution_count": 79,
   "metadata": {},
   "outputs": [
    {
     "data": {
      "text/plain": [
       "0"
      ]
     },
     "execution_count": 79,
     "metadata": {},
     "output_type": "execute_result"
    }
   ],
   "source": [
    "Chem.MolFromSmiles(\"CC12[C]C34C5C67CC89C%10%11C%12C16C1C6C52C32C6%10C%11C48C92C1%127\").GetRingInfo().NumRings()"
   ]
  },
  {
   "cell_type": "code",
   "execution_count": null,
   "metadata": {},
   "outputs": [],
   "source": []
  },
  {
   "cell_type": "code",
   "execution_count": 82,
   "metadata": {},
   "outputs": [
    {
     "name": "stdout",
     "output_type": "stream",
     "text": [
      "Collecting selfies\n",
      "  Downloading selfies-2.2.0-py3-none-any.whl (36 kB)\n",
      "Installing collected packages: selfies\n",
      "Successfully installed selfies-2.2.0\n"
     ]
    },
    {
     "name": "stderr",
     "output_type": "stream",
     "text": [
      "\n",
      "[notice] A new release of pip available: 22.3.1 -> 25.0.1\n",
      "[notice] To update, run: python.exe -m pip install --upgrade pip\n"
     ]
    }
   ],
   "source": [
    "!pip install selfies"
   ]
  },
  {
   "cell_type": "code",
   "execution_count": 84,
   "metadata": {},
   "outputs": [
    {
     "name": "stdout",
     "output_type": "stream",
     "text": [
      "SELFIES: [C][C][CH0][C][C][C][C][C][C][C][C][Ring1][#Branch2][Ring1][=Branch1][C][C][C][Ring1][#Branch2][Ring1][=N][C][Ring1][N][C][Ring1][Ring2][Ring1][Branch2][C][Ring1][=Branch2][C][Ring1][#C][Ring1][O][C][Ring1][N][Ring1][Branch1][C][Ring1][=Branch2][Ring1][O][Ring1][#C]\n"
     ]
    }
   ],
   "source": [
    "import selfies as sf\n",
    "\n",
    "# SMILES → SELFIES\n",
    "smiles = \"CC12[C]C34C5C67CC89C%10%11C%12C16C1C6C52C32C6%10C%11C48C92C1%127\"\n",
    "selfie = sf.encoder(smiles)\n",
    "print(\"SELFIES:\", selfie)"
   ]
  },
  {
   "cell_type": "code",
   "execution_count": 85,
   "metadata": {},
   "outputs": [],
   "source": [
    "from gflownet.utils import sascore"
   ]
  },
  {
   "cell_type": "code",
   "execution_count": 87,
   "metadata": {},
   "outputs": [
    {
     "data": {
      "text/plain": [
       "8.969095062285014"
      ]
     },
     "execution_count": 87,
     "metadata": {},
     "output_type": "execute_result"
    }
   ],
   "source": [
    "sascore.calculateScore(Chem.MolFromSmiles(\"CC12[C]C34C5C67CC89C%10%11C%12C16C1C6C52C32C6%10C%11C48C92C1%127\"))"
   ]
  },
  {
   "cell_type": "code",
   "execution_count": 98,
   "metadata": {},
   "outputs": [
    {
     "data": {
      "image/png": "[encoded data removed]",
      "text/plain": [
       "<rdkit.Chem.rdchem.Mol at 0x23d34573300>"
      ]
     },
     "execution_count": 98,
     "metadata": {},
     "output_type": "execute_result"
    }
   ],
   "source": [
    "Chem.MolFromSmiles(\"C1=CC=CC=C1\")"
   ]
  },
  {
   "cell_type": "code",
   "execution_count": 99,
   "metadata": {},
   "outputs": [
    {
     "data": {
      "text/plain": [
       "1.0"
      ]
     },
     "execution_count": 99,
     "metadata": {},
     "output_type": "execute_result"
    }
   ],
   "source": [
    "sascore.calculateScore(Chem.MolFromSmiles(\"C1=CC=CC=C1\"))"
   ]
  },
  {
   "cell_type": "code",
   "execution_count": 100,
   "metadata": {},
   "outputs": [],
   "source": [
    "import numpy as np\n",
    "import matplotlib.pyplot as plt"
   ]
  },
  {
   "cell_type": "code",
   "execution_count": 101,
   "metadata": {},
   "outputs": [
    {
     "data": {
      "text/plain": [
       "[<matplotlib.lines.Line2D at 0x23d345c8ca0>]"
      ]
     },
     "execution_count": 101,
     "metadata": {},
     "output_type": "execute_result"
    },
    {
     "data": {
      "image/png": "[encoded data removed]",
      "text/plain": [
       "<Figure size 640x480 with 1 Axes>"
      ]
     },
     "metadata": {},
     "output_type": "display_data"
    }
   ],
   "source": [
    "x = np.linspace(1,10,100)\n",
    "plt.plot(x, 1/x)"
   ]
  },
  {
   "cell_type": "code",
   "execution_count": 102,
   "metadata": {},
   "outputs": [
    {
     "data": {
      "text/plain": [
       "[<matplotlib.lines.Line2D at 0x23d357695a0>]"
      ]
     },
     "execution_count": 102,
     "metadata": {},
     "output_type": "execute_result"
    },
    {
     "data": {
      "image/png": "[encoded data removed]",
      "text/plain": [
       "<Figure size 640x480 with 1 Axes>"
      ]
     },
     "metadata": {},
     "output_type": "display_data"
    }
   ],
   "source": [
    "plt.plot(x, (10 - x) / 9)"
   ]
  },
  {
   "cell_type": "code",
   "execution_count": 51,
   "metadata": {},
   "outputs": [
    {
     "data": {
      "text/plain": [
       "([{2}, {3}, {5}, {9, 10, 11, 12}, {14}, {16}, {17, 18}, {19}],\n",
       " {1: 6, 4: 1, 2: 1})"
      ]
     },
     "execution_count": 51,
     "metadata": {},
     "output_type": "execute_result"
    }
   ],
   "source": [
    "okygen_chains(smiles)"
   ]
  },
  {
   "cell_type": "code",
   "execution_count": 70,
   "metadata": {},
   "outputs": [
    {
     "data": {
      "image/png": "[encoded data removed]",
      "text/plain": [
       "<rdkit.Chem.rdchem.Mol at 0x23d191b59a0>"
      ]
     },
     "execution_count": 70,
     "metadata": {},
     "output_type": "execute_result"
    }
   ],
   "source": [
    "smiles=\"COC1(C)OCOOC2(ONOC2(C)C)OOOOO1\"\n",
    "Chem.MolFromSmiles(smiles)"
   ]
  },
  {
   "cell_type": "code",
   "execution_count": 71,
   "metadata": {},
   "outputs": [
    {
     "data": {
      "text/plain": [
       "([{1}, {4}, {6, 7}, {9}, {11}, {15, 16, 17, 18, 19}], {1: 4, 2: 1, 5: 1})"
      ]
     },
     "execution_count": 71,
     "metadata": {},
     "output_type": "execute_result"
    }
   ],
   "source": [
    "okygen_chains(smiles)"
   ]
  },
  {
   "cell_type": "code",
   "execution_count": 52,
   "metadata": {},
   "outputs": [],
   "source": [
    "import pandas as pd"
   ]
  },
  {
   "cell_type": "code",
   "execution_count": 53,
   "metadata": {},
   "outputs": [],
   "source": [
    "openpom_smiles = pd.read_csv(\"openpomdata.csv\")[\"nonStereoSMILES\"]\n",
    "openpom_smiles_to_mol = {s: Chem.MolFromSmiles(s) for s in openpom_smiles}"
   ]
  },
  {
   "cell_type": "code",
   "execution_count": 108,
   "metadata": {},
   "outputs": [],
   "source": [
    "df = pd.read_csv(\"openpomdata.csv\")\n",
    "df = df[df['odorless'] == False]"
   ]
  },
  {
   "cell_type": "code",
   "execution_count": 109,
   "metadata": {},
   "outputs": [],
   "source": [
    "\n",
    "atoms_in_dataset = set()\n",
    "\n",
    "for smiles in df[\"nonStereoSMILES\"]:  # or your SMILES column\n",
    "    mol = Chem.MolFromSmiles(smiles)\n",
    "    if mol:\n",
    "        atoms_in_dataset.update(atom.GetSymbol() for atom in mol.GetAtoms())"
   ]
  },
  {
   "cell_type": "code",
   "execution_count": 110,
   "metadata": {},
   "outputs": [
    {
     "data": {
      "text/plain": [
       "{'Br', 'C', 'Cl', 'F', 'Fe', 'N', 'Na', 'O', 'S'}"
      ]
     },
     "execution_count": 110,
     "metadata": {},
     "output_type": "execute_result"
    }
   ],
   "source": [
    "atoms_in_dataset"
   ]
  },
  {
   "cell_type": "code",
   "execution_count": 116,
   "metadata": {},
   "outputs": [
    {
     "name": "stdout",
     "output_type": "stream",
     "text": [
      "c1ccc2[nH]ccc2c1 {0, 1}\n",
      "Cc1c[nH]c2ccccc12 {0, 1}\n",
      "Cc1cc2ccccc2[nH]1 {0, 1}\n",
      "c1cc[nH]c1 {0, 1}\n",
      "O=Cc1ccc[nH]1 {0, 1}\n",
      "CC(=O)c1ccc[nH]1 {0, 1}\n",
      "CCC(=O)c1ccc[nH]1 {0, 1}\n",
      "CCCC(CCOC)[SH]=C(O)OCC {0, 1}\n",
      "Cn1cnc2c1c(=O)[nH]c(=O)n2C {0, 1}\n",
      "O=c1cccc[nH]1 {0, 1}\n",
      "Cc1ccc(C)[nH]1 {0, 1}\n",
      "Cc1ccc(C=O)[nH]1 {0, 1}\n",
      "S=c1[nH]c2ccccc2s1 {0, 1}\n",
      "O=C(CSCc1nc2ccccc2[nH]1)Nc1ccc2ccccc2c1 {0, 1}\n",
      "O=C(CCc1ccccc1)c1ccc[nH]1 {0, 1}\n",
      "CC(=O)Cc1ccc[nH]1 {0, 1}\n",
      "c1ccc(CCCc2ccn[nH]2)cc1 {0, 1}\n",
      "[NH4+].[NH4+].[S-2] {0, 4}\n",
      "CC(CC=O)CCCC(C)(C)O.Cc1c[nH]c2ccccc12 {0, 1}\n",
      "CC(CC=O)CCCC(C)(C)O.c1ccc2[nH]ccc2c1 {0, 1}\n",
      "S=c1nccc[nH]1 {0, 1}\n",
      "C[NH+]1CCN(c2ccc(CO)cc2)CC1 {0, 1}\n",
      "CC1=[NH+]C(C)OC1C {0, 1}\n",
      "CC(=O)c1ccc(C)[nH]1 {0, 1}\n"
     ]
    }
   ],
   "source": [
    "\n",
    "exh_in_dataset = set()\n",
    "\n",
    "for smiles in df[\"nonStereoSMILES\"]:  # or your SMILES column\n",
    "    mol = Chem.MolFromSmiles(smiles)\n",
    "    if mol:\n",
    "        sset = {atom.GetNumExplicitHs() for atom in mol.GetAtoms()}\n",
    "        if 1 in sset or 4 in sset:\n",
    "            print(smiles, sset)\n",
    "        exh_in_dataset.update(sset)"
   ]
  },
  {
   "cell_type": "code",
   "execution_count": 117,
   "metadata": {},
   "outputs": [
    {
     "data": {
      "image/png": "[encoded data removed]",
      "text/plain": [
       "<rdkit.Chem.rdchem.Mol at 0x23d35823a00>"
      ]
     },
     "execution_count": 117,
     "metadata": {},
     "output_type": "execute_result"
    }
   ],
   "source": [
    "Chem.MolFromSmiles(\"[NH4+].[NH4+].[S-2]\")"
   ]
  },
  {
   "cell_type": "code",
   "execution_count": 119,
   "metadata": {},
   "outputs": [
    {
     "data": {
      "image/png": "[encoded data removed]",
      "text/plain": [
       "<rdkit.Chem.rdchem.Mol at 0x23d35822810>"
      ]
     },
     "execution_count": 119,
     "metadata": {},
     "output_type": "execute_result"
    }
   ],
   "source": [
    "Chem.MolFromSmiles(\"CC(=O)c1ccc(C)[nH]1\")\n"
   ]
  },
  {
   "cell_type": "code",
   "execution_count": 122,
   "metadata": {},
   "outputs": [
    {
     "data": {
      "text/plain": [
       "(4782, 4783)"
      ]
     },
     "execution_count": 122,
     "metadata": {},
     "output_type": "execute_result"
    }
   ],
   "source": [
    "def is_valid_smiles(smiles: str) -> bool:\n",
    "    mol = Chem.MolFromSmiles(smiles)\n",
    "    if not mol:\n",
    "        return False \n",
    "    for atom in mol.GetAtoms():\n",
    "        if atom.GetNumExplicitHs() > 1:\n",
    "            return False  \n",
    "    return True\n",
    "\n",
    "df_valid = df[df[\"nonStereoSMILES\"].apply(is_valid_smiles)].copy()  \n",
    "len(df_valid), len(df)"
   ]
  },
  {
   "cell_type": "code",
   "execution_count": 114,
   "metadata": {},
   "outputs": [
    {
     "data": {
      "text/plain": [
       "{0, 1, 4}"
      ]
     },
     "execution_count": 114,
     "metadata": {},
     "output_type": "execute_result"
    }
   ],
   "source": [
    "exh_in_dataset"
   ]
  },
  {
   "cell_type": "code",
   "execution_count": 111,
   "metadata": {},
   "outputs": [
    {
     "data": {
      "text/plain": [
       "Index(['nonStereoSMILES', 'descriptors', 'alcoholic', 'aldehydic',\n",
       "       'alliaceous', 'almond', 'amber', 'animal', 'anisic', 'apple',\n",
       "       ...\n",
       "       'tropical', 'vanilla', 'vegetable', 'vetiver', 'violet', 'warm', 'waxy',\n",
       "       'weedy', 'winey', 'woody'],\n",
       "      dtype='object', length=140)"
      ]
     },
     "execution_count": 111,
     "metadata": {},
     "output_type": "execute_result"
    }
   ],
   "source": [
    "df.keys()"
   ]
  },
  {
   "cell_type": "code",
   "execution_count": 56,
   "metadata": {},
   "outputs": [],
   "source": [
    "oxygen_dicts = [okygen_chains(s)[1] for s in openpom_smiles]"
   ]
  },
  {
   "cell_type": "code",
   "execution_count": 57,
   "metadata": {},
   "outputs": [
    {
     "data": {
      "text/plain": [
       "{1: 9030, 2: 3}"
      ]
     },
     "execution_count": 57,
     "metadata": {},
     "output_type": "execute_result"
    }
   ],
   "source": [
    "{ k: sum(d.get(k, 0) for d in oxygen_dicts) for k in set().union(*oxygen_dicts) }"
   ]
  },
  {
   "cell_type": "code",
   "execution_count": 58,
   "metadata": {},
   "outputs": [],
   "source": [
    "def count_oxygen(smiles):\n",
    "    mol = Chem.MolFromSmiles(smiles)\n",
    "    count = 0\n",
    "    for atom in mol.GetAtoms():\n",
    "        if atom.GetAtomicNum() != 8:\n",
    "            continue\n",
    "        count +=1\n",
    "    return count\n",
    "    "
   ]
  },
  {
   "cell_type": "code",
   "execution_count": 59,
   "metadata": {},
   "outputs": [],
   "source": [
    "oxygen_counts = [count_oxygen(s) for s in openpom_smiles]"
   ]
  },
  {
   "cell_type": "code",
   "execution_count": 68,
   "metadata": {},
   "outputs": [
    {
     "name": "stdout",
     "output_type": "stream",
     "text": [
      "O.O.O=S(=O)([O-])[O-].[Ca+2]\n"
     ]
    },
    {
     "data": {
      "text/plain": [
       "(113, 8)"
      ]
     },
     "execution_count": 68,
     "metadata": {},
     "output_type": "execute_result"
    }
   ],
   "source": [
    "large_o = []\n",
    "length_M = []\n",
    "for s in openpom_smiles:\n",
    "    c = count_oxygen(s)\n",
    "    if c >5:\n",
    "        large_o.append(s)\n",
    "        length_M.append(len(Chem.MolFromSmiles(s).GetAtoms()))\n",
    "        if len(Chem.MolFromSmiles(s).GetAtoms()) == 8:\n",
    "            print(s)\n",
    "len(large_o), min(length_M)"
   ]
  },
  {
   "cell_type": "code",
   "execution_count": 69,
   "metadata": {},
   "outputs": [
    {
     "data": {
      "image/png": "[encoded data removed]",
      "text/plain": [
       "<rdkit.Chem.rdchem.Mol at 0x23d191b4b30>"
      ]
     },
     "execution_count": 69,
     "metadata": {},
     "output_type": "execute_result"
    }
   ],
   "source": [
    "Chem.MolFromSmiles(\"O.O.O=S(=O)([O-])[O-].[Ca+2]\")"
   ]
  },
  {
   "cell_type": "code",
   "execution_count": 60,
   "metadata": {},
   "outputs": [],
   "source": [
    "import matplotlib.pyplot as plt"
   ]
  },
  {
   "cell_type": "code",
   "execution_count": 63,
   "metadata": {},
   "outputs": [
    {
     "data": {
      "text/plain": [
       "(array([6.380e+02, 0.000e+00, 1.488e+03, 0.000e+00, 0.000e+00, 1.992e+03,\n",
       "        0.000e+00, 5.120e+02, 0.000e+00, 0.000e+00, 2.010e+02, 0.000e+00,\n",
       "        3.900e+01, 0.000e+00, 0.000e+00, 4.400e+01, 0.000e+00, 1.500e+01,\n",
       "        0.000e+00, 0.000e+00, 2.000e+01, 0.000e+00, 3.000e+00, 0.000e+00,\n",
       "        0.000e+00, 5.000e+00, 0.000e+00, 5.000e+00, 0.000e+00, 0.000e+00,\n",
       "        4.000e+00, 0.000e+00, 4.000e+00, 0.000e+00, 0.000e+00, 3.000e+00,\n",
       "        0.000e+00, 2.000e+00, 0.000e+00, 0.000e+00, 1.000e+00, 0.000e+00,\n",
       "        1.000e+00, 0.000e+00, 0.000e+00, 0.000e+00, 0.000e+00, 2.000e+00,\n",
       "        0.000e+00, 0.000e+00, 1.000e+00, 0.000e+00, 0.000e+00, 0.000e+00,\n",
       "        0.000e+00, 0.000e+00, 0.000e+00, 0.000e+00, 0.000e+00, 0.000e+00,\n",
       "        0.000e+00, 0.000e+00, 0.000e+00, 0.000e+00, 0.000e+00, 0.000e+00,\n",
       "        0.000e+00, 0.000e+00, 0.000e+00, 0.000e+00, 0.000e+00, 0.000e+00,\n",
       "        0.000e+00, 0.000e+00, 0.000e+00, 1.000e+00, 0.000e+00, 0.000e+00,\n",
       "        0.000e+00, 0.000e+00, 0.000e+00, 0.000e+00, 0.000e+00, 0.000e+00,\n",
       "        0.000e+00, 0.000e+00, 0.000e+00, 1.000e+00, 0.000e+00, 0.000e+00,\n",
       "        0.000e+00, 0.000e+00, 0.000e+00, 0.000e+00, 0.000e+00, 0.000e+00,\n",
       "        0.000e+00, 0.000e+00, 0.000e+00, 1.000e+00]),\n",
       " array([ 0. ,  0.4,  0.8,  1.2,  1.6,  2. ,  2.4,  2.8,  3.2,  3.6,  4. ,\n",
       "         4.4,  4.8,  5.2,  5.6,  6. ,  6.4,  6.8,  7.2,  7.6,  8. ,  8.4,\n",
       "         8.8,  9.2,  9.6, 10. , 10.4, 10.8, 11.2, 11.6, 12. , 12.4, 12.8,\n",
       "        13.2, 13.6, 14. , 14.4, 14.8, 15.2, 15.6, 16. , 16.4, 16.8, 17.2,\n",
       "        17.6, 18. , 18.4, 18.8, 19.2, 19.6, 20. , 20.4, 20.8, 21.2, 21.6,\n",
       "        22. , 22.4, 22.8, 23.2, 23.6, 24. , 24.4, 24.8, 25.2, 25.6, 26. ,\n",
       "        26.4, 26.8, 27.2, 27.6, 28. , 28.4, 28.8, 29.2, 29.6, 30. , 30.4,\n",
       "        30.8, 31.2, 31.6, 32. , 32.4, 32.8, 33.2, 33.6, 34. , 34.4, 34.8,\n",
       "        35.2, 35.6, 36. , 36.4, 36.8, 37.2, 37.6, 38. , 38.4, 38.8, 39.2,\n",
       "        39.6, 40. ]),\n",
       " <BarContainer object of 100 artists>)"
      ]
     },
     "execution_count": 63,
     "metadata": {},
     "output_type": "execute_result"
    },
    {
     "data": {
      "image/png": "[encoded data removed]",
      "text/plain": [
       "<Figure size 640x480 with 1 Axes>"
      ]
     },
     "metadata": {},
     "output_type": "display_data"
    }
   ],
   "source": [
    "plt.hist(oxygen_counts, bins=100)"
   ]
  },
  {
   "cell_type": "code",
   "execution_count": 35,
   "metadata": {},
   "outputs": [
    {
     "data": {
      "text/plain": [
       "{'c': 4, 'a': 21, 'b': 4}"
      ]
     },
     "execution_count": 35,
     "metadata": {},
     "output_type": "execute_result"
    }
   ],
   "source": [
    "a_dict = {\"a\":10,\"b\":2,\"c\":4}\n",
    "b_dict = {\"a\":11,\"b\":2}\n",
    "{k: a_dict.get(k, 0) + b_dict.get(k, 0) for k in a_dict.keys() | b_dict.keys()}"
   ]
  },
  {
   "cell_type": "code",
   "execution_count": 36,
   "metadata": {},
   "outputs": [
    {
     "data": {
      "text/plain": [
       "{'a': 21, 'b': 4, 'c': 4}"
      ]
     },
     "execution_count": 36,
     "metadata": {},
     "output_type": "execute_result"
    }
   ],
   "source": [
    "dicts = [a_dict,b_dict]\n",
    "{ k: sum(d.get(k, 0) for d in dicts) for k in set().union(*dicts) }"
   ]
  }
 ],
 "metadata": {
  "kernelspec": {
   "display_name": "venv",
   "language": "python",
   "name": "python3"
  },
  "language_info": {
   "codemirror_mode": {
    "name": "ipython",
    "version": 3
   },
   "file_extension": ".py",
   "mimetype": "text/x-python",
   "name": "python",
   "nbconvert_exporter": "python",
   "pygments_lexer": "ipython3",
   "version": "3.10.9"
  }
 },
 "nbformat": 4,
 "nbformat_minor": 2
}
