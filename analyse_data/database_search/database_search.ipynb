{
 "cells": [
  {
   "cell_type": "markdown",
   "id": "a0304329",
   "metadata": {},
   "source": [
    "# Database Search\n",
    "\n"
   ]
  },
  {
   "cell_type": "markdown",
   "id": "91941b63",
   "metadata": {},
   "source": [
    "Search generated molecules on pubchem"
   ]
  },
  {
   "cell_type": "markdown",
   "id": "b55d1364",
   "metadata": {},
   "source": [
    "## Run notebook from project root\n",
    "\n",
    "Adjust `path_to_top_dir = \"../../\"`"
   ]
  },
  {
   "cell_type": "code",
   "execution_count": 1,
   "id": "c89f8fd0",
   "metadata": {},
   "outputs": [],
   "source": [
    "import sys\n",
    "import os\n",
    "\n",
    "path_to_top_dir = \"../../\"\n",
    "sys.path.append(os.path.abspath(path_to_top_dir))"
   ]
  },
  {
   "cell_type": "code",
   "execution_count": 2,
   "id": "572f36d5",
   "metadata": {},
   "outputs": [
    {
     "data": {
      "text/plain": [
       "'c:\\\\Users\\\\paulj\\\\Desktop\\\\Master'"
      ]
     },
     "execution_count": 2,
     "metadata": {},
     "output_type": "execute_result"
    }
   ],
   "source": [
    "root_path = os.path.abspath(path_to_top_dir)\n",
    "root_path"
   ]
  },
  {
   "cell_type": "code",
   "execution_count": 3,
   "id": "04f0baf7",
   "metadata": {},
   "outputs": [
    {
     "data": {
      "text/plain": [
       "'c:\\\\Users\\\\paulj\\\\Desktop\\\\Master\\\\analyse_data\\\\database_search'"
      ]
     },
     "execution_count": 3,
     "metadata": {},
     "output_type": "execute_result"
    }
   ],
   "source": [
    "os.getcwd()"
   ]
  },
  {
   "cell_type": "markdown",
   "id": "99d29309",
   "metadata": {},
   "source": [
    "## Imports"
   ]
  },
  {
   "cell_type": "code",
   "execution_count": 12,
   "id": "2e418bdf",
   "metadata": {},
   "outputs": [],
   "source": [
    "from src.validation.database_search import search_pubchem\n",
    "import pandas as pd\n",
    "import json"
   ]
  },
  {
   "cell_type": "markdown",
   "id": "56107005",
   "metadata": {},
   "source": [
    "## Search PubChem"
   ]
  },
  {
   "cell_type": "code",
   "execution_count": 11,
   "id": "7cbcbd7c",
   "metadata": {},
   "outputs": [
    {
     "name": "stdout",
     "output_type": "stream",
     "text": [
      "Perform DB match for first_configuration_intermediate_results.csv\n"
     ]
    },
    {
     "name": "stderr",
     "output_type": "stream",
     "text": [
      "100%|██████████| 500/500 [07:27<00:00,  1.12it/s, Count=7% (Green), Time=3% (Green), Service=10% (Green), Status=200] \n"
     ]
    },
    {
     "name": "stdout",
     "output_type": "stream",
     "text": [
      "\n",
      "# of molecules found on PubChem: 91\n",
      "# of molecules not found on PubChem: 409\n",
      "Successrate: 18.2%\n",
      "\n",
      "Perform DB match for first_configuration_results.csv\n"
     ]
    },
    {
     "name": "stderr",
     "output_type": "stream",
     "text": [
      "100%|██████████| 500/500 [07:31<00:00,  1.11it/s, Count=9% (Green), Time=4% (Green), Service=10% (Green), Status=200]     \n"
     ]
    },
    {
     "name": "stdout",
     "output_type": "stream",
     "text": [
      "\n",
      "# of molecules found on PubChem: 100\n",
      "# of molecules not found on PubChem: 400\n",
      "Successrate: 20.0%\n",
      "\n",
      "Perform DB match for second_configuration_intermediate_results.csv\n"
     ]
    },
    {
     "name": "stderr",
     "output_type": "stream",
     "text": [
      "100%|██████████| 500/500 [07:37<00:00,  1.09it/s, Count=8% (Green), Time=3% (Green), Service=17% (Green), Status=200]    \n"
     ]
    },
    {
     "name": "stdout",
     "output_type": "stream",
     "text": [
      "\n",
      "# of molecules found on PubChem: 157\n",
      "# of molecules not found on PubChem: 343\n",
      "Successrate: 31.4%\n",
      "\n",
      "Perform DB match for second_configuration_results.csv\n"
     ]
    },
    {
     "name": "stderr",
     "output_type": "stream",
     "text": [
      "100%|██████████| 500/500 [07:20<00:00,  1.14it/s, Count=8% (Green), Time=3% (Green), Service=30% (Green), Status=200]     "
     ]
    },
    {
     "name": "stdout",
     "output_type": "stream",
     "text": [
      "\n",
      "# of molecules found on PubChem: 128\n",
      "# of molecules not found on PubChem: 372\n",
      "Successrate: 25.6%\n",
      "\n"
     ]
    },
    {
     "name": "stderr",
     "output_type": "stream",
     "text": [
      "\n"
     ]
    }
   ],
   "source": [
    "results = {}\n",
    "for result_file in os.listdir(\"./data/\"):\n",
    "    print(f\"Perform DB match for {result_file}\")\n",
    "    df = pd.read_csv(f\"./data/{result_file}\")[:500]\n",
    "    smiles_list = list(df[\"SMILES\"])\n",
    "    matches, failures, found = search_pubchem(smiles_list)\n",
    "    results[result_file] = [matches, failures, found]\n",
    "    df[\"has_db_match\"] = found\n",
    "    df.to_csv(f\"./results/{result_file}\", index=False)\n",
    "    print()"
   ]
  },
  {
   "cell_type": "code",
   "execution_count": 15,
   "id": "c1211e3e",
   "metadata": {},
   "outputs": [],
   "source": [
    "with open(\"db_search.json\", \"w\") as outfile:\n",
    "    json.dump(results, outfile)"
   ]
  }
 ],
 "metadata": {
  "kernelspec": {
   "display_name": "venv",
   "language": "python",
   "name": "python3"
  },
  "language_info": {
   "codemirror_mode": {
    "name": "ipython",
    "version": 3
   },
   "file_extension": ".py",
   "mimetype": "text/x-python",
   "name": "python",
   "nbconvert_exporter": "python",
   "pygments_lexer": "ipython3",
   "version": "3.10.9"
  }
 },
 "nbformat": 4,
 "nbformat_minor": 5
}
