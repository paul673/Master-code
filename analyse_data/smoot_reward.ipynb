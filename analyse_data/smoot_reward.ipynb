{
 "cells": [
  {
   "cell_type": "code",
   "execution_count": 27,
   "id": "9d77f32b",
   "metadata": {},
   "outputs": [],
   "source": [
    "# OpenPOM analysis imports\n",
    "import pandas as pd\n",
    "import numpy as np\n",
    "import matplotlib.pyplot as plt\n",
    "from rdkit import Chem\n",
    "from numpy.linalg import norm"
   ]
  },
  {
   "cell_type": "code",
   "execution_count": 28,
   "id": "bb51d883",
   "metadata": {},
   "outputs": [],
   "source": [
    "def explicit_H_filter(smiles: str) -> bool:\n",
    "    mol = Chem.MolFromSmiles(smiles)\n",
    "    for atom in mol.GetAtoms():\n",
    "        if atom.GetNumExplicitHs() > 1:\n",
    "            return False  \n",
    "    return True"
   ]
  },
  {
   "cell_type": "code",
   "execution_count": 29,
   "id": "688e5413",
   "metadata": {},
   "outputs": [
    {
     "name": "stderr",
     "output_type": "stream",
     "text": [
      "c:\\Users\\paulj\\Desktop\\Master\\venv\\lib\\site-packages\\numpy\\lib\\function_base.py:2897: RuntimeWarning: invalid value encountered in divide\n",
      "  c /= stddev[:, None]\n",
      "c:\\Users\\paulj\\Desktop\\Master\\venv\\lib\\site-packages\\numpy\\lib\\function_base.py:2898: RuntimeWarning: invalid value encountered in divide\n",
      "  c /= stddev[None, :]\n"
     ]
    }
   ],
   "source": [
    "df = pd.read_csv(\"openpomdata.csv\").drop(\"descriptors\",axis=1)\n",
    "\n",
    "df =  df[df['odorless'] == False]\n",
    "df = df[df[\"nonStereoSMILES\"].apply(explicit_H_filter)].copy()  \n",
    "df = df.reset_index(drop=True)\n",
    "scent_matrix = df[df.keys()[1:]].to_numpy()\n",
    "\n",
    "vanilla_idx = list(df.keys()[1:]).index(\"vanilla\")  \n",
    "\n",
    "# compute Pearson correlation between vanilla and every other scent\n",
    "vanilla_col = scent_matrix[:, vanilla_idx]\n",
    "corrs = np.array([np.corrcoef(vanilla_col, scent_matrix[:, i])[0,1] for i in range(138)])\n",
    "vanilla_corr_vec = np.nan_to_num(corrs)  # shape: (138,), with NaNs replaced by 0\n",
    "\n",
    "\n",
    "\n",
    "\n",
    "def cosine_similarity(v1, v2):\n",
    "    return np.dot(v1, v2) / (norm(v1) * norm(v2) + 1e-8)\n",
    "\n",
    "def compute_reward(mol_vec):\n",
    "    return cosine_similarity(mol_vec, vanilla_corr_vec)\n",
    "\n",
    "scent_cols = df.columns[1:]\n",
    "df[\"reward\"]= df[scent_cols].apply(compute_reward, axis=1)\n",
    "\n",
    "# Normalize to [0.1, 1.0] range (or any positive range you like)\n",
    "min_r = df[\"reward\"].min()\n",
    "max_r = df[\"reward\"].max()\n",
    "\n",
    "# Avoid zero reward\n",
    "scaled_rewards = 0.1 + 0.9 * (df[\"reward\"] - min_r) / (max_r - min_r)\n",
    "df[\"shift_reward\"] = scaled_rewards"
   ]
  },
  {
   "cell_type": "code",
   "execution_count": 30,
   "id": "2321ba49",
   "metadata": {},
   "outputs": [
    {
     "data": {
      "text/plain": [
       "4983"
      ]
     },
     "execution_count": 30,
     "metadata": {},
     "output_type": "execute_result"
    }
   ],
   "source": [
    "df = pd.read_csv(\"openpomdata.csv\").drop(\"descriptors\",axis=1)\n",
    "len(df)"
   ]
  },
  {
   "cell_type": "code",
   "execution_count": 31,
   "id": "ffc98205",
   "metadata": {},
   "outputs": [
    {
     "data": {
      "text/html": [
       "<div>\n",
       "<style scoped>\n",
       "    .dataframe tbody tr th:only-of-type {\n",
       "        vertical-align: middle;\n",
       "    }\n",
       "\n",
       "    .dataframe tbody tr th {\n",
       "        vertical-align: top;\n",
       "    }\n",
       "\n",
       "    .dataframe thead th {\n",
       "        text-align: right;\n",
       "    }\n",
       "</style>\n",
       "<table border=\"1\" class=\"dataframe\">\n",
       "  <thead>\n",
       "    <tr style=\"text-align: right;\">\n",
       "      <th></th>\n",
       "      <th>nonStereoSMILES</th>\n",
       "      <th>alcoholic</th>\n",
       "      <th>aldehydic</th>\n",
       "      <th>alliaceous</th>\n",
       "      <th>almond</th>\n",
       "      <th>amber</th>\n",
       "      <th>animal</th>\n",
       "      <th>anisic</th>\n",
       "      <th>apple</th>\n",
       "      <th>apricot</th>\n",
       "      <th>...</th>\n",
       "      <th>tropical</th>\n",
       "      <th>vanilla</th>\n",
       "      <th>vegetable</th>\n",
       "      <th>vetiver</th>\n",
       "      <th>violet</th>\n",
       "      <th>warm</th>\n",
       "      <th>waxy</th>\n",
       "      <th>weedy</th>\n",
       "      <th>winey</th>\n",
       "      <th>woody</th>\n",
       "    </tr>\n",
       "  </thead>\n",
       "  <tbody>\n",
       "    <tr>\n",
       "      <th>0</th>\n",
       "      <td>CC(O)CN</td>\n",
       "      <td>0</td>\n",
       "      <td>0</td>\n",
       "      <td>0</td>\n",
       "      <td>0</td>\n",
       "      <td>0</td>\n",
       "      <td>0</td>\n",
       "      <td>0</td>\n",
       "      <td>0</td>\n",
       "      <td>0</td>\n",
       "      <td>...</td>\n",
       "      <td>0</td>\n",
       "      <td>0</td>\n",
       "      <td>0</td>\n",
       "      <td>0</td>\n",
       "      <td>0</td>\n",
       "      <td>0</td>\n",
       "      <td>0</td>\n",
       "      <td>0</td>\n",
       "      <td>0</td>\n",
       "      <td>0</td>\n",
       "    </tr>\n",
       "    <tr>\n",
       "      <th>1</th>\n",
       "      <td>CCC(=O)C(=O)O</td>\n",
       "      <td>0</td>\n",
       "      <td>0</td>\n",
       "      <td>0</td>\n",
       "      <td>0</td>\n",
       "      <td>0</td>\n",
       "      <td>0</td>\n",
       "      <td>0</td>\n",
       "      <td>0</td>\n",
       "      <td>0</td>\n",
       "      <td>...</td>\n",
       "      <td>0</td>\n",
       "      <td>0</td>\n",
       "      <td>0</td>\n",
       "      <td>0</td>\n",
       "      <td>0</td>\n",
       "      <td>0</td>\n",
       "      <td>0</td>\n",
       "      <td>0</td>\n",
       "      <td>0</td>\n",
       "      <td>0</td>\n",
       "    </tr>\n",
       "    <tr>\n",
       "      <th>2</th>\n",
       "      <td>O=C(O)CCc1ccccc1</td>\n",
       "      <td>0</td>\n",
       "      <td>0</td>\n",
       "      <td>0</td>\n",
       "      <td>0</td>\n",
       "      <td>0</td>\n",
       "      <td>0</td>\n",
       "      <td>0</td>\n",
       "      <td>0</td>\n",
       "      <td>0</td>\n",
       "      <td>...</td>\n",
       "      <td>0</td>\n",
       "      <td>0</td>\n",
       "      <td>0</td>\n",
       "      <td>0</td>\n",
       "      <td>0</td>\n",
       "      <td>0</td>\n",
       "      <td>0</td>\n",
       "      <td>0</td>\n",
       "      <td>0</td>\n",
       "      <td>0</td>\n",
       "    </tr>\n",
       "    <tr>\n",
       "      <th>3</th>\n",
       "      <td>OCc1ccc(O)cc1</td>\n",
       "      <td>0</td>\n",
       "      <td>0</td>\n",
       "      <td>0</td>\n",
       "      <td>1</td>\n",
       "      <td>0</td>\n",
       "      <td>0</td>\n",
       "      <td>0</td>\n",
       "      <td>0</td>\n",
       "      <td>0</td>\n",
       "      <td>...</td>\n",
       "      <td>0</td>\n",
       "      <td>0</td>\n",
       "      <td>0</td>\n",
       "      <td>0</td>\n",
       "      <td>0</td>\n",
       "      <td>0</td>\n",
       "      <td>0</td>\n",
       "      <td>0</td>\n",
       "      <td>0</td>\n",
       "      <td>0</td>\n",
       "    </tr>\n",
       "    <tr>\n",
       "      <th>4</th>\n",
       "      <td>O=Cc1ccc(O)cc1</td>\n",
       "      <td>0</td>\n",
       "      <td>0</td>\n",
       "      <td>0</td>\n",
       "      <td>1</td>\n",
       "      <td>0</td>\n",
       "      <td>0</td>\n",
       "      <td>0</td>\n",
       "      <td>0</td>\n",
       "      <td>0</td>\n",
       "      <td>...</td>\n",
       "      <td>0</td>\n",
       "      <td>1</td>\n",
       "      <td>0</td>\n",
       "      <td>0</td>\n",
       "      <td>0</td>\n",
       "      <td>0</td>\n",
       "      <td>0</td>\n",
       "      <td>0</td>\n",
       "      <td>0</td>\n",
       "      <td>1</td>\n",
       "    </tr>\n",
       "  </tbody>\n",
       "</table>\n",
       "<p>5 rows × 139 columns</p>\n",
       "</div>"
      ],
      "text/plain": [
       "    nonStereoSMILES  alcoholic  aldehydic  alliaceous  almond  amber  animal  \\\n",
       "0           CC(O)CN          0          0           0       0      0       0   \n",
       "1     CCC(=O)C(=O)O          0          0           0       0      0       0   \n",
       "2  O=C(O)CCc1ccccc1          0          0           0       0      0       0   \n",
       "3     OCc1ccc(O)cc1          0          0           0       1      0       0   \n",
       "4    O=Cc1ccc(O)cc1          0          0           0       1      0       0   \n",
       "\n",
       "   anisic  apple  apricot  ...  tropical  vanilla  vegetable  vetiver  violet  \\\n",
       "0       0      0        0  ...         0        0          0        0       0   \n",
       "1       0      0        0  ...         0        0          0        0       0   \n",
       "2       0      0        0  ...         0        0          0        0       0   \n",
       "3       0      0        0  ...         0        0          0        0       0   \n",
       "4       0      0        0  ...         0        1          0        0       0   \n",
       "\n",
       "   warm  waxy  weedy  winey  woody  \n",
       "0     0     0      0      0      0  \n",
       "1     0     0      0      0      0  \n",
       "2     0     0      0      0      0  \n",
       "3     0     0      0      0      0  \n",
       "4     0     0      0      0      1  \n",
       "\n",
       "[5 rows x 139 columns]"
      ]
     },
     "execution_count": 31,
     "metadata": {},
     "output_type": "execute_result"
    }
   ],
   "source": [
    "\n",
    "df =  df[df['odorless'] == False]\n",
    "df = df[df[\"nonStereoSMILES\"].apply(explicit_H_filter)].copy()  \n",
    "df = df.reset_index(drop=True)\n",
    "df.head()"
   ]
  },
  {
   "cell_type": "code",
   "execution_count": 32,
   "id": "5e807ac4",
   "metadata": {},
   "outputs": [
    {
     "name": "stderr",
     "output_type": "stream",
     "text": [
      "c:\\Users\\paulj\\Desktop\\Master\\venv\\lib\\site-packages\\numpy\\lib\\function_base.py:2897: RuntimeWarning: invalid value encountered in divide\n",
      "  c /= stddev[:, None]\n",
      "c:\\Users\\paulj\\Desktop\\Master\\venv\\lib\\site-packages\\numpy\\lib\\function_base.py:2898: RuntimeWarning: invalid value encountered in divide\n",
      "  c /= stddev[None, :]\n"
     ]
    }
   ],
   "source": [
    "scent_matrix = df[df.keys()[1:]].to_numpy()\n",
    "\n",
    "vanilla_idx = list(df.keys()[1:]).index(\"vanilla\")  \n",
    "\n",
    "# compute Pearson correlation between vanilla and every other scent\n",
    "vanilla_col = scent_matrix[:, vanilla_idx]\n",
    "corrs = np.array([np.corrcoef(vanilla_col, scent_matrix[:, i])[0,1] for i in range(138)])\n",
    "vanilla_corr_vec = np.nan_to_num(corrs)  # shape: (138,), with NaNs replaced by 0"
   ]
  },
  {
   "cell_type": "code",
   "execution_count": 33,
   "id": "d05aa1f5",
   "metadata": {},
   "outputs": [
    {
     "data": {
      "image/png": "[encoded data removed]",
      "text/plain": [
       "<Figure size 1400x600 with 1 Axes>"
      ]
     },
     "metadata": {},
     "output_type": "display_data"
    }
   ],
   "source": [
    "# Sort by correlation\n",
    "sorted_indices = np.argsort(vanilla_corr_vec)\n",
    "sorted_corrs = vanilla_corr_vec[sorted_indices]\n",
    "sorted_labels = np.array(df.keys()[1:])[sorted_indices]\n",
    "\n",
    "# Plot\n",
    "plt.figure(figsize=(14, 6))\n",
    "plt.bar(range(len(sorted_corrs)), sorted_corrs, color=\"skyblue\")\n",
    "plt.xticks(range(len(sorted_corrs)), sorted_labels, rotation=90)\n",
    "plt.ylabel(\"Correlation with Vanilla\")\n",
    "plt.title(\"Scent Correlation with 'Vanilla'\")\n",
    "plt.tight_layout()\n",
    "plt.grid(axis='y', linestyle='--', alpha=0.5)\n",
    "plt.show()"
   ]
  },
  {
   "cell_type": "code",
   "execution_count": 34,
   "id": "09ee40a8",
   "metadata": {},
   "outputs": [],
   "source": [
    "from numpy.linalg import norm\n",
    "\n",
    "def cosine_similarity(v1, v2):\n",
    "    return np.dot(v1, v2) / (norm(v1) * norm(v2) + 1e-8)\n",
    "\n",
    "def compute_reward(mol_vec):\n",
    "    return cosine_similarity(mol_vec, vanilla_corr_vec)"
   ]
  },
  {
   "cell_type": "code",
   "execution_count": 35,
   "id": "50dcf227",
   "metadata": {},
   "outputs": [],
   "source": [
    "scent_cols = df.columns[1:]\n",
    "df[\"reward\"]= df[scent_cols].apply(compute_reward, axis=1)"
   ]
  },
  {
   "cell_type": "code",
   "execution_count": 36,
   "id": "5faf54a5",
   "metadata": {},
   "outputs": [
    {
     "data": {
      "text/plain": [
       "<Axes: >"
      ]
     },
     "execution_count": 36,
     "metadata": {},
     "output_type": "execute_result"
    },
    {
     "data": {
      "image/png": "[encoded data removed]",
      "text/plain": [
       "<Figure size 640x480 with 1 Axes>"
      ]
     },
     "metadata": {},
     "output_type": "display_data"
    }
   ],
   "source": [
    "df[\"reward\"].hist(bins=100)"
   ]
  },
  {
   "cell_type": "code",
   "execution_count": 37,
   "id": "6f8da929",
   "metadata": {},
   "outputs": [],
   "source": [
    "\n",
    "# Normalize to [0.1, 1.0] range (or any positive range you like)\n",
    "min_r = df[\"reward\"].min()\n",
    "max_r = df[\"reward\"].max()\n",
    "\n",
    "# Avoid zero reward\n",
    "scaled_rewards = 0.1 + 0.9 * (df[\"reward\"] - min_r) / (max_r - min_r)\n",
    "df[\"shift_reward\"] = scaled_rewards"
   ]
  },
  {
   "cell_type": "code",
   "execution_count": 38,
   "id": "c39e4292",
   "metadata": {},
   "outputs": [
    {
     "data": {
      "text/plain": [
       "<Axes: >"
      ]
     },
     "execution_count": 38,
     "metadata": {},
     "output_type": "execute_result"
    },
    {
     "data": {
      "image/png": "[encoded data removed]",
      "text/plain": [
       "<Figure size 640x480 with 1 Axes>"
      ]
     },
     "metadata": {},
     "output_type": "display_data"
    }
   ],
   "source": [
    "df[\"shift_reward\"].hist(bins=100)"
   ]
  },
  {
   "cell_type": "code",
   "execution_count": 39,
   "id": "7bd7f540",
   "metadata": {},
   "outputs": [
    {
     "data": {
      "text/html": [
       "<div>\n",
       "<style scoped>\n",
       "    .dataframe tbody tr th:only-of-type {\n",
       "        vertical-align: middle;\n",
       "    }\n",
       "\n",
       "    .dataframe tbody tr th {\n",
       "        vertical-align: top;\n",
       "    }\n",
       "\n",
       "    .dataframe thead th {\n",
       "        text-align: right;\n",
       "    }\n",
       "</style>\n",
       "<table border=\"1\" class=\"dataframe\">\n",
       "  <thead>\n",
       "    <tr style=\"text-align: right;\">\n",
       "      <th></th>\n",
       "      <th>nonStereoSMILES</th>\n",
       "      <th>alcoholic</th>\n",
       "      <th>aldehydic</th>\n",
       "      <th>alliaceous</th>\n",
       "      <th>almond</th>\n",
       "      <th>amber</th>\n",
       "      <th>animal</th>\n",
       "      <th>anisic</th>\n",
       "      <th>apple</th>\n",
       "      <th>apricot</th>\n",
       "      <th>...</th>\n",
       "      <th>vegetable</th>\n",
       "      <th>vetiver</th>\n",
       "      <th>violet</th>\n",
       "      <th>warm</th>\n",
       "      <th>waxy</th>\n",
       "      <th>weedy</th>\n",
       "      <th>winey</th>\n",
       "      <th>woody</th>\n",
       "      <th>reward</th>\n",
       "      <th>shift_reward</th>\n",
       "    </tr>\n",
       "  </thead>\n",
       "  <tbody>\n",
       "    <tr>\n",
       "      <th>4203</th>\n",
       "      <td>CCOc1ccc(C(OCC)OCC)cc1OC</td>\n",
       "      <td>0</td>\n",
       "      <td>0</td>\n",
       "      <td>0</td>\n",
       "      <td>0</td>\n",
       "      <td>0</td>\n",
       "      <td>0</td>\n",
       "      <td>0</td>\n",
       "      <td>0</td>\n",
       "      <td>0</td>\n",
       "      <td>...</td>\n",
       "      <td>0</td>\n",
       "      <td>0</td>\n",
       "      <td>0</td>\n",
       "      <td>0</td>\n",
       "      <td>0</td>\n",
       "      <td>0</td>\n",
       "      <td>0</td>\n",
       "      <td>0</td>\n",
       "      <td>0.855641</td>\n",
       "      <td>1.0</td>\n",
       "    </tr>\n",
       "    <tr>\n",
       "      <th>4400</th>\n",
       "      <td>COc1cc(C=O)ccc1OC1OC(CO)C(O)C(O)C1O</td>\n",
       "      <td>0</td>\n",
       "      <td>0</td>\n",
       "      <td>0</td>\n",
       "      <td>0</td>\n",
       "      <td>0</td>\n",
       "      <td>0</td>\n",
       "      <td>0</td>\n",
       "      <td>0</td>\n",
       "      <td>0</td>\n",
       "      <td>...</td>\n",
       "      <td>0</td>\n",
       "      <td>0</td>\n",
       "      <td>0</td>\n",
       "      <td>0</td>\n",
       "      <td>0</td>\n",
       "      <td>0</td>\n",
       "      <td>0</td>\n",
       "      <td>0</td>\n",
       "      <td>0.855641</td>\n",
       "      <td>1.0</td>\n",
       "    </tr>\n",
       "    <tr>\n",
       "      <th>4757</th>\n",
       "      <td>CCOC1OC(CO)C(O)C(O)C1O.COc1cc(C=O)ccc1O</td>\n",
       "      <td>0</td>\n",
       "      <td>0</td>\n",
       "      <td>0</td>\n",
       "      <td>0</td>\n",
       "      <td>0</td>\n",
       "      <td>0</td>\n",
       "      <td>0</td>\n",
       "      <td>0</td>\n",
       "      <td>0</td>\n",
       "      <td>...</td>\n",
       "      <td>0</td>\n",
       "      <td>0</td>\n",
       "      <td>0</td>\n",
       "      <td>0</td>\n",
       "      <td>0</td>\n",
       "      <td>0</td>\n",
       "      <td>0</td>\n",
       "      <td>0</td>\n",
       "      <td>0.855641</td>\n",
       "      <td>1.0</td>\n",
       "    </tr>\n",
       "  </tbody>\n",
       "</table>\n",
       "<p>3 rows × 141 columns</p>\n",
       "</div>"
      ],
      "text/plain": [
       "                              nonStereoSMILES  alcoholic  aldehydic  \\\n",
       "4203                 CCOc1ccc(C(OCC)OCC)cc1OC          0          0   \n",
       "4400      COc1cc(C=O)ccc1OC1OC(CO)C(O)C(O)C1O          0          0   \n",
       "4757  CCOC1OC(CO)C(O)C(O)C1O.COc1cc(C=O)ccc1O          0          0   \n",
       "\n",
       "      alliaceous  almond  amber  animal  anisic  apple  apricot  ...  \\\n",
       "4203           0       0      0       0       0      0        0  ...   \n",
       "4400           0       0      0       0       0      0        0  ...   \n",
       "4757           0       0      0       0       0      0        0  ...   \n",
       "\n",
       "      vegetable  vetiver  violet  warm  waxy  weedy  winey  woody    reward  \\\n",
       "4203          0        0       0     0     0      0      0      0  0.855641   \n",
       "4400          0        0       0     0     0      0      0      0  0.855641   \n",
       "4757          0        0       0     0     0      0      0      0  0.855641   \n",
       "\n",
       "      shift_reward  \n",
       "4203           1.0  \n",
       "4400           1.0  \n",
       "4757           1.0  \n",
       "\n",
       "[3 rows x 141 columns]"
      ]
     },
     "execution_count": 39,
     "metadata": {},
     "output_type": "execute_result"
    }
   ],
   "source": [
    "df[df[\"shift_reward\"]==1]"
   ]
  },
  {
   "cell_type": "code",
   "execution_count": 40,
   "id": "17769c96",
   "metadata": {},
   "outputs": [
    {
     "data": {
      "text/html": [
       "<div>\n",
       "<style scoped>\n",
       "    .dataframe tbody tr th:only-of-type {\n",
       "        vertical-align: middle;\n",
       "    }\n",
       "\n",
       "    .dataframe tbody tr th {\n",
       "        vertical-align: top;\n",
       "    }\n",
       "\n",
       "    .dataframe thead th {\n",
       "        text-align: right;\n",
       "    }\n",
       "</style>\n",
       "<table border=\"1\" class=\"dataframe\">\n",
       "  <thead>\n",
       "    <tr style=\"text-align: right;\">\n",
       "      <th></th>\n",
       "      <th>nonStereoSMILES</th>\n",
       "      <th>alcoholic</th>\n",
       "      <th>aldehydic</th>\n",
       "      <th>alliaceous</th>\n",
       "      <th>almond</th>\n",
       "      <th>amber</th>\n",
       "      <th>animal</th>\n",
       "      <th>anisic</th>\n",
       "      <th>apple</th>\n",
       "      <th>apricot</th>\n",
       "      <th>...</th>\n",
       "      <th>vegetable</th>\n",
       "      <th>vetiver</th>\n",
       "      <th>violet</th>\n",
       "      <th>warm</th>\n",
       "      <th>waxy</th>\n",
       "      <th>weedy</th>\n",
       "      <th>winey</th>\n",
       "      <th>woody</th>\n",
       "      <th>reward</th>\n",
       "      <th>shift_reward</th>\n",
       "    </tr>\n",
       "  </thead>\n",
       "  <tbody>\n",
       "  </tbody>\n",
       "</table>\n",
       "<p>0 rows × 141 columns</p>\n",
       "</div>"
      ],
      "text/plain": [
       "Empty DataFrame\n",
       "Columns: [nonStereoSMILES, alcoholic, aldehydic, alliaceous, almond, amber, animal, anisic, apple, apricot, aromatic, balsamic, banana, beefy, bergamot, berry, bitter, black currant, brandy, burnt, buttery, cabbage, camphoreous, caramellic, cedar, celery, chamomile, cheesy, cherry, chocolate, cinnamon, citrus, clean, clove, cocoa, coconut, coffee, cognac, cooked, cooling, cortex, coumarinic, creamy, cucumber, dairy, dry, earthy, ethereal, fatty, fermented, fishy, floral, fresh, fruit skin, fruity, garlic, gassy, geranium, grape, grapefruit, grassy, green, hawthorn, hay, hazelnut, herbal, honey, hyacinth, jasmin, juicy, ketonic, lactonic, lavender, leafy, leathery, lemon, lily, malty, meaty, medicinal, melon, metallic, milky, mint, muguet, mushroom, musk, musty, natural, nutty, odorless, oily, onion, orange, orangeflower, orris, ozone, peach, pear, phenolic, ...]\n",
       "Index: []\n",
       "\n",
       "[0 rows x 141 columns]"
      ]
     },
     "execution_count": 40,
     "metadata": {},
     "output_type": "execute_result"
    }
   ],
   "source": [
    "df[df[\"reward\"]==1]"
   ]
  },
  {
   "cell_type": "code",
   "execution_count": 41,
   "id": "920a8120",
   "metadata": {},
   "outputs": [
    {
     "data": {
      "image/png": "[encoded data removed]",
      "text/plain": [
       "<Figure size 640x480 with 1 Axes>"
      ]
     },
     "metadata": {},
     "output_type": "display_data"
    }
   ],
   "source": [
    "\n",
    "df[\"shift_reward\"].hist(bins=100)\n",
    "df[df[\"vanilla\"]==1][\"shift_reward\"].hist(bins=50)\n",
    "plt.yscale(\"log\")"
   ]
  },
  {
   "cell_type": "code",
   "execution_count": 42,
   "id": "f10f33cd",
   "metadata": {},
   "outputs": [
    {
     "data": {
      "text/plain": [
       "<Axes: >"
      ]
     },
     "execution_count": 42,
     "metadata": {},
     "output_type": "execute_result"
    },
    {
     "data": {
      "image/png": "[encoded data removed]",
      "text/plain": [
       "<Figure size 640x480 with 1 Axes>"
      ]
     },
     "metadata": {},
     "output_type": "display_data"
    }
   ],
   "source": [
    "df[df[\"vanilla\"]==1][\"shift_reward\"].hist(bins=10)"
   ]
  },
  {
   "cell_type": "code",
   "execution_count": 43,
   "id": "196241c3",
   "metadata": {},
   "outputs": [
    {
     "data": {
      "text/plain": [
       "<Axes: >"
      ]
     },
     "execution_count": 43,
     "metadata": {},
     "output_type": "execute_result"
    },
    {
     "data": {
      "image/png": "[encoded data removed]",
      "text/plain": [
       "<Figure size 640x480 with 1 Axes>"
      ]
     },
     "metadata": {},
     "output_type": "display_data"
    }
   ],
   "source": [
    "df[df[\"shift_reward\"]>0.45][\"shift_reward\"].hist(bins=10)"
   ]
  },
  {
   "cell_type": "code",
   "execution_count": 44,
   "id": "aa7a2cd9",
   "metadata": {},
   "outputs": [],
   "source": [
    "df[\"shift_reward_2\"] = df[\"shift_reward\"]**2"
   ]
  },
  {
   "cell_type": "code",
   "execution_count": 45,
   "id": "66e80166",
   "metadata": {},
   "outputs": [
    {
     "data": {
      "text/plain": [
       "<Axes: >"
      ]
     },
     "execution_count": 45,
     "metadata": {},
     "output_type": "execute_result"
    },
    {
     "data": {
      "image/png": "[encoded data removed]",
      "text/plain": [
       "<Figure size 640x480 with 1 Axes>"
      ]
     },
     "metadata": {},
     "output_type": "display_data"
    }
   ],
   "source": [
    "\n",
    "\n",
    "df[\"shift_reward_2\"].hist(bins=100)\n",
    "df[df[\"vanilla\"]==1][\"shift_reward_2\"].hist(bins=50)"
   ]
  },
  {
   "cell_type": "code",
   "execution_count": 46,
   "id": "cb500a88",
   "metadata": {},
   "outputs": [
    {
     "data": {
      "text/plain": [
       "4983"
      ]
     },
     "execution_count": 46,
     "metadata": {},
     "output_type": "execute_result"
    }
   ],
   "source": [
    "df = pd.read_csv(\"openpomdata.csv\").drop(\"descriptors\",axis=1)\n",
    "len(df)"
   ]
  },
  {
   "cell_type": "code",
   "execution_count": 47,
   "id": "02288f34",
   "metadata": {},
   "outputs": [
    {
     "data": {
      "text/plain": [
       "{'Al',\n",
       " 'B',\n",
       " 'Bi',\n",
       " 'Br',\n",
       " 'C',\n",
       " 'Ca',\n",
       " 'Cl',\n",
       " 'Co',\n",
       " 'Cr',\n",
       " 'Cu',\n",
       " 'F',\n",
       " 'Fe',\n",
       " 'He',\n",
       " 'I',\n",
       " 'K',\n",
       " 'Mg',\n",
       " 'N',\n",
       " 'Na',\n",
       " 'O',\n",
       " 'P',\n",
       " 'S',\n",
       " 'Si',\n",
       " 'Ti',\n",
       " 'V',\n",
       " 'Zn'}"
      ]
     },
     "execution_count": 47,
     "metadata": {},
     "output_type": "execute_result"
    }
   ],
   "source": [
    "atoms_in_dataset = set()\n",
    "\n",
    "for smiles in df[\"nonStereoSMILES\"]:  # or your SMILES column\n",
    "    mol = Chem.MolFromSmiles(smiles)\n",
    "    if mol:\n",
    "        atoms_in_dataset.update(atom.GetSymbol() for atom in mol.GetAtoms())\n",
    "atoms_in_dataset"
   ]
  },
  {
   "cell_type": "code",
   "execution_count": 48,
   "id": "740dd040",
   "metadata": {},
   "outputs": [
    {
     "data": {
      "text/plain": [
       "{'C', 'N', 'O', 'S'}"
      ]
     },
     "execution_count": 48,
     "metadata": {},
     "output_type": "execute_result"
    }
   ],
   "source": [
    "\n",
    "\n",
    "atoms_in_dataset = set()\n",
    "\n",
    "for smiles in df[df[\"vanilla\"]==1][\"nonStereoSMILES\"]:  # or your SMILES column\n",
    "    mol = Chem.MolFromSmiles(smiles)\n",
    "    if mol:\n",
    "        atoms_in_dataset.update(atom.GetSymbol() for atom in mol.GetAtoms())\n",
    "atoms_in_dataset"
   ]
  },
  {
   "cell_type": "code",
   "execution_count": 49,
   "id": "f767321b",
   "metadata": {},
   "outputs": [
    {
     "data": {
      "text/html": [
       "<div>\n",
       "<style scoped>\n",
       "    .dataframe tbody tr th:only-of-type {\n",
       "        vertical-align: middle;\n",
       "    }\n",
       "\n",
       "    .dataframe tbody tr th {\n",
       "        vertical-align: top;\n",
       "    }\n",
       "\n",
       "    .dataframe thead th {\n",
       "        text-align: right;\n",
       "    }\n",
       "</style>\n",
       "<table border=\"1\" class=\"dataframe\">\n",
       "  <thead>\n",
       "    <tr style=\"text-align: right;\">\n",
       "      <th></th>\n",
       "      <th>nonStereoSMILES</th>\n",
       "      <th>alcoholic</th>\n",
       "      <th>aldehydic</th>\n",
       "      <th>alliaceous</th>\n",
       "      <th>almond</th>\n",
       "      <th>amber</th>\n",
       "      <th>animal</th>\n",
       "      <th>anisic</th>\n",
       "      <th>apple</th>\n",
       "      <th>apricot</th>\n",
       "      <th>...</th>\n",
       "      <th>tropical</th>\n",
       "      <th>vanilla</th>\n",
       "      <th>vegetable</th>\n",
       "      <th>vetiver</th>\n",
       "      <th>violet</th>\n",
       "      <th>warm</th>\n",
       "      <th>waxy</th>\n",
       "      <th>weedy</th>\n",
       "      <th>winey</th>\n",
       "      <th>woody</th>\n",
       "    </tr>\n",
       "  </thead>\n",
       "  <tbody>\n",
       "    <tr>\n",
       "      <th>0</th>\n",
       "      <td>CC(O)CN</td>\n",
       "      <td>0</td>\n",
       "      <td>0</td>\n",
       "      <td>0</td>\n",
       "      <td>0</td>\n",
       "      <td>0</td>\n",
       "      <td>0</td>\n",
       "      <td>0</td>\n",
       "      <td>0</td>\n",
       "      <td>0</td>\n",
       "      <td>...</td>\n",
       "      <td>0</td>\n",
       "      <td>0</td>\n",
       "      <td>0</td>\n",
       "      <td>0</td>\n",
       "      <td>0</td>\n",
       "      <td>0</td>\n",
       "      <td>0</td>\n",
       "      <td>0</td>\n",
       "      <td>0</td>\n",
       "      <td>0</td>\n",
       "    </tr>\n",
       "    <tr>\n",
       "      <th>1</th>\n",
       "      <td>CCC(=O)C(=O)O</td>\n",
       "      <td>0</td>\n",
       "      <td>0</td>\n",
       "      <td>0</td>\n",
       "      <td>0</td>\n",
       "      <td>0</td>\n",
       "      <td>0</td>\n",
       "      <td>0</td>\n",
       "      <td>0</td>\n",
       "      <td>0</td>\n",
       "      <td>...</td>\n",
       "      <td>0</td>\n",
       "      <td>0</td>\n",
       "      <td>0</td>\n",
       "      <td>0</td>\n",
       "      <td>0</td>\n",
       "      <td>0</td>\n",
       "      <td>0</td>\n",
       "      <td>0</td>\n",
       "      <td>0</td>\n",
       "      <td>0</td>\n",
       "    </tr>\n",
       "    <tr>\n",
       "      <th>2</th>\n",
       "      <td>O=C(O)CCc1ccccc1</td>\n",
       "      <td>0</td>\n",
       "      <td>0</td>\n",
       "      <td>0</td>\n",
       "      <td>0</td>\n",
       "      <td>0</td>\n",
       "      <td>0</td>\n",
       "      <td>0</td>\n",
       "      <td>0</td>\n",
       "      <td>0</td>\n",
       "      <td>...</td>\n",
       "      <td>0</td>\n",
       "      <td>0</td>\n",
       "      <td>0</td>\n",
       "      <td>0</td>\n",
       "      <td>0</td>\n",
       "      <td>0</td>\n",
       "      <td>0</td>\n",
       "      <td>0</td>\n",
       "      <td>0</td>\n",
       "      <td>0</td>\n",
       "    </tr>\n",
       "    <tr>\n",
       "      <th>3</th>\n",
       "      <td>OCc1ccc(O)cc1</td>\n",
       "      <td>0</td>\n",
       "      <td>0</td>\n",
       "      <td>0</td>\n",
       "      <td>1</td>\n",
       "      <td>0</td>\n",
       "      <td>0</td>\n",
       "      <td>0</td>\n",
       "      <td>0</td>\n",
       "      <td>0</td>\n",
       "      <td>...</td>\n",
       "      <td>0</td>\n",
       "      <td>0</td>\n",
       "      <td>0</td>\n",
       "      <td>0</td>\n",
       "      <td>0</td>\n",
       "      <td>0</td>\n",
       "      <td>0</td>\n",
       "      <td>0</td>\n",
       "      <td>0</td>\n",
       "      <td>0</td>\n",
       "    </tr>\n",
       "    <tr>\n",
       "      <th>4</th>\n",
       "      <td>O=Cc1ccc(O)cc1</td>\n",
       "      <td>0</td>\n",
       "      <td>0</td>\n",
       "      <td>0</td>\n",
       "      <td>1</td>\n",
       "      <td>0</td>\n",
       "      <td>0</td>\n",
       "      <td>0</td>\n",
       "      <td>0</td>\n",
       "      <td>0</td>\n",
       "      <td>...</td>\n",
       "      <td>0</td>\n",
       "      <td>1</td>\n",
       "      <td>0</td>\n",
       "      <td>0</td>\n",
       "      <td>0</td>\n",
       "      <td>0</td>\n",
       "      <td>0</td>\n",
       "      <td>0</td>\n",
       "      <td>0</td>\n",
       "      <td>1</td>\n",
       "    </tr>\n",
       "  </tbody>\n",
       "</table>\n",
       "<p>5 rows × 139 columns</p>\n",
       "</div>"
      ],
      "text/plain": [
       "    nonStereoSMILES  alcoholic  aldehydic  alliaceous  almond  amber  animal  \\\n",
       "0           CC(O)CN          0          0           0       0      0       0   \n",
       "1     CCC(=O)C(=O)O          0          0           0       0      0       0   \n",
       "2  O=C(O)CCc1ccccc1          0          0           0       0      0       0   \n",
       "3     OCc1ccc(O)cc1          0          0           0       1      0       0   \n",
       "4    O=Cc1ccc(O)cc1          0          0           0       1      0       0   \n",
       "\n",
       "   anisic  apple  apricot  ...  tropical  vanilla  vegetable  vetiver  violet  \\\n",
       "0       0      0        0  ...         0        0          0        0       0   \n",
       "1       0      0        0  ...         0        0          0        0       0   \n",
       "2       0      0        0  ...         0        0          0        0       0   \n",
       "3       0      0        0  ...         0        0          0        0       0   \n",
       "4       0      0        0  ...         0        1          0        0       0   \n",
       "\n",
       "   warm  waxy  weedy  winey  woody  \n",
       "0     0     0      0      0      0  \n",
       "1     0     0      0      0      0  \n",
       "2     0     0      0      0      0  \n",
       "3     0     0      0      0      0  \n",
       "4     0     0      0      0      1  \n",
       "\n",
       "[5 rows x 139 columns]"
      ]
     },
     "execution_count": 49,
     "metadata": {},
     "output_type": "execute_result"
    }
   ],
   "source": [
    "\n",
    "df = df[df[\"nonStereoSMILES\"].apply(explicit_H_filter)].copy()  \n",
    "df = df.reset_index(drop=True)\n",
    "df.head()"
   ]
  },
  {
   "cell_type": "code",
   "execution_count": 50,
   "id": "2f757ce7",
   "metadata": {},
   "outputs": [],
   "source": [
    "atoms_in_dataset = set()\n",
    "\n",
    "for smiles in df[\"nonStereoSMILES\"]:  # or your SMILES column\n",
    "    mol = Chem.MolFromSmiles(smiles)\n",
    "    if mol:\n",
    "        atoms_in_dataset.update(atom.GetSymbol() for atom in mol.GetAtoms())"
   ]
  },
  {
   "cell_type": "code",
   "execution_count": 51,
   "id": "546828e9",
   "metadata": {},
   "outputs": [
    {
     "data": {
      "text/plain": [
       "25"
      ]
     },
     "execution_count": 51,
     "metadata": {},
     "output_type": "execute_result"
    }
   ],
   "source": [
    "len(atoms_in_dataset)"
   ]
  }
 ],
 "metadata": {
  "kernelspec": {
   "display_name": "venv",
   "language": "python",
   "name": "python3"
  },
  "language_info": {
   "codemirror_mode": {
    "name": "ipython",
    "version": 3
   },
   "file_extension": ".py",
   "mimetype": "text/x-python",
   "name": "python",
   "nbconvert_exporter": "python",
   "pygments_lexer": "ipython3",
   "version": "3.10.9"
  }
 },
 "nbformat": 4,
 "nbformat_minor": 5
}
