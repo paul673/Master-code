{
 "cells": [
  {
   "cell_type": "code",
   "execution_count": 1,
   "id": "f2b1d7ce",
   "metadata": {},
   "outputs": [],
   "source": [
    "# OpenPOM analysis imports\n",
    "import pandas as pd\n",
    "import numpy as np\n",
    "import matplotlib.pyplot as plt\n",
    "from rdkit import Chem\n",
    "from numpy.linalg import norm"
   ]
  },
  {
   "cell_type": "code",
   "execution_count": 2,
   "id": "4e516274",
   "metadata": {},
   "outputs": [
    {
     "name": "stdout",
     "output_type": "stream",
     "text": [
      "\n",
      "############################################################\n",
      "#                     Initialize MCFs                      #\n",
      "############################################################\n",
      "\n",
      "Filter                                        Min        Max\n",
      "------------------------------------------------------------\n",
      "LogP                                         0.06       4.91\n",
      "Molecular Weight                           100.12     282.46\n",
      "HBAB + HBD                                   0.00       5.00\n",
      "TPSA                                         0.00      63.32\n",
      "Rotatable Bonds                              0.00      11.00\n",
      "NO2 Groups                                   0.00       0.00\n",
      "Heteroatoms                                  0.00       4.00\n",
      "Aromatic Rings                               0.00       1.00\n",
      "Atom Count                                   0.00      20.00\n",
      "Triple Bonds                                 0.00       0.00\n",
      "Oxygen Chain Length                          0.00       1.00\n",
      "\n",
      "############################################################\n"
     ]
    },
    {
     "name": "stderr",
     "output_type": "stream",
     "text": [
      "c:\\Users\\paulj\\Desktop\\Master\\venv\\lib\\site-packages\\sklearn\\base.py:380: InconsistentVersionWarning: Trying to unpickle estimator DecisionTreeClassifier from version 1.5.2 when using version 1.6.1. This might lead to breaking code or invalid results. Use at your own risk. For more info please refer to:\n",
      "https://scikit-learn.org/stable/model_persistence.html#security-maintainability-limitations\n",
      "  warnings.warn(\n",
      "c:\\Users\\paulj\\Desktop\\Master\\venv\\lib\\site-packages\\sklearn\\base.py:380: InconsistentVersionWarning: Trying to unpickle estimator RandomForestClassifier from version 1.5.2 when using version 1.6.1. This might lead to breaking code or invalid results. Use at your own risk. For more info please refer to:\n",
      "https://scikit-learn.org/stable/model_persistence.html#security-maintainability-limitations\n",
      "  warnings.warn(\n"
     ]
    }
   ],
   "source": [
    "# MCF imports\n",
    "from molecule_validation import is_odorant, score_molecule"
   ]
  },
  {
   "cell_type": "code",
   "execution_count": 3,
   "id": "ab07d683",
   "metadata": {},
   "outputs": [],
   "source": [
    "# from submodels.openpom.functions import fragance_propabilities_from_smiles\n",
    "\n",
    "#from numpy.linalg import norm\n",
    "\n",
    "#TARGET_SMILES = \"COC1=C(C=CC(=C1)C=O)O\"\n",
    "#TARGET_VEC = fragance_propabilities_from_smiles(TARGET_SMILES)[0]"
   ]
  },
  {
   "cell_type": "code",
   "execution_count": 4,
   "id": "3218336d",
   "metadata": {},
   "outputs": [],
   "source": [
    "\n",
    "def calculate_score(mol, is_vanilla):\n",
    "    # Odorant filter + All MCF Filters + Has vanilla scent / 3 (To calculate mean of these params)\n",
    "    return (is_odorant(mol)[0] + score_molecule(mol).all() + is_vanilla)/3\n",
    "\n",
    "def calculate_score_online(mol):\n",
    "    # Odorant filter + All MCF Filters + Has vanilla scent / 3 (To calculate mean of these params)\n",
    "    return int(is_odorant(mol)[0]) + score_molecule(mol).all()\n",
    "\n",
    "def hard_filter(mol):\n",
    "    return int(int(is_odorant(mol)[0]) * score_molecule(mol).all())"
   ]
  },
  {
   "cell_type": "code",
   "execution_count": 5,
   "id": "5f749c03",
   "metadata": {},
   "outputs": [],
   "source": [
    "def explicit_H_filter(smiles: str) -> bool:\n",
    "    mol = Chem.MolFromSmiles(smiles)\n",
    "    for atom in mol.GetAtoms():\n",
    "        if atom.GetNumExplicitHs() > 1:\n",
    "            return False  \n",
    "    return True\n",
    "\n",
    "\n",
    "\n",
    "def generate_scores(df):\n",
    "    df['score'] = df.apply(\n",
    "        lambda x: calculate_score(\n",
    "            Chem.MolFromSmiles(x.nonStereoSMILES), \n",
    "            x.vanilla\n",
    "            ), axis=1)\n",
    "    return df\n",
    "\n",
    "def cosine_similarity(vec1,vec2):\n",
    "    return np.dot(vec1,vec2)/(norm(vec1)*norm(vec2))\n"
   ]
  },
  {
   "cell_type": "code",
   "execution_count": 6,
   "id": "749eeafc",
   "metadata": {},
   "outputs": [],
   "source": [
    "hist_df=pd.DataFrame()\n",
    "hist_dfv=pd.DataFrame()"
   ]
  },
  {
   "cell_type": "code",
   "execution_count": 7,
   "id": "8518d9e4",
   "metadata": {},
   "outputs": [],
   "source": [
    "# Read Offline Molecules\n",
    "df = pd.read_csv(\"openpomdata.csv\").drop(\"descriptors\",axis=1)"
   ]
  },
  {
   "cell_type": "code",
   "execution_count": 8,
   "id": "a77304ed",
   "metadata": {},
   "outputs": [
    {
     "data": {
      "text/plain": [
       "111"
      ]
     },
     "execution_count": 8,
     "metadata": {},
     "output_type": "execute_result"
    }
   ],
   "source": [
    "len(df[df[\"vanilla\"]==1])"
   ]
  },
  {
   "cell_type": "code",
   "execution_count": 9,
   "id": "ce892fd3",
   "metadata": {},
   "outputs": [
    {
     "data": {
      "text/html": [
       "<div>\n",
       "<style scoped>\n",
       "    .dataframe tbody tr th:only-of-type {\n",
       "        vertical-align: middle;\n",
       "    }\n",
       "\n",
       "    .dataframe tbody tr th {\n",
       "        vertical-align: top;\n",
       "    }\n",
       "\n",
       "    .dataframe thead th {\n",
       "        text-align: right;\n",
       "    }\n",
       "</style>\n",
       "<table border=\"1\" class=\"dataframe\">\n",
       "  <thead>\n",
       "    <tr style=\"text-align: right;\">\n",
       "      <th></th>\n",
       "      <th>nonStereoSMILES</th>\n",
       "      <th>alcoholic</th>\n",
       "      <th>aldehydic</th>\n",
       "      <th>alliaceous</th>\n",
       "      <th>almond</th>\n",
       "      <th>amber</th>\n",
       "      <th>animal</th>\n",
       "      <th>anisic</th>\n",
       "      <th>apple</th>\n",
       "      <th>apricot</th>\n",
       "      <th>...</th>\n",
       "      <th>tropical</th>\n",
       "      <th>vanilla</th>\n",
       "      <th>vegetable</th>\n",
       "      <th>vetiver</th>\n",
       "      <th>violet</th>\n",
       "      <th>warm</th>\n",
       "      <th>waxy</th>\n",
       "      <th>weedy</th>\n",
       "      <th>winey</th>\n",
       "      <th>woody</th>\n",
       "    </tr>\n",
       "  </thead>\n",
       "  <tbody>\n",
       "    <tr>\n",
       "      <th>64</th>\n",
       "      <td>COc1cc(C=O)ccc1O</td>\n",
       "      <td>0</td>\n",
       "      <td>0</td>\n",
       "      <td>0</td>\n",
       "      <td>0</td>\n",
       "      <td>0</td>\n",
       "      <td>0</td>\n",
       "      <td>0</td>\n",
       "      <td>0</td>\n",
       "      <td>0</td>\n",
       "      <td>...</td>\n",
       "      <td>0</td>\n",
       "      <td>1</td>\n",
       "      <td>0</td>\n",
       "      <td>0</td>\n",
       "      <td>0</td>\n",
       "      <td>0</td>\n",
       "      <td>0</td>\n",
       "      <td>0</td>\n",
       "      <td>0</td>\n",
       "      <td>0</td>\n",
       "    </tr>\n",
       "  </tbody>\n",
       "</table>\n",
       "<p>1 rows × 139 columns</p>\n",
       "</div>"
      ],
      "text/plain": [
       "     nonStereoSMILES  alcoholic  aldehydic  alliaceous  almond  amber  animal  \\\n",
       "64  COc1cc(C=O)ccc1O          0          0           0       0      0       0   \n",
       "\n",
       "    anisic  apple  apricot  ...  tropical  vanilla  vegetable  vetiver  \\\n",
       "64       0      0        0  ...         0        1          0        0   \n",
       "\n",
       "    violet  warm  waxy  weedy  winey  woody  \n",
       "64       0     0     0      0      0      0  \n",
       "\n",
       "[1 rows x 139 columns]"
      ]
     },
     "execution_count": 9,
     "metadata": {},
     "output_type": "execute_result"
    }
   ],
   "source": [
    "# Find Vanillin (Both \"COc1cc(C=O)ccc1O\" and \"COC1=C(C=CC(=C1)C=O)O\" are valid SMILES strings for vanillin)\n",
    "df[df[\"nonStereoSMILES\"]==\"COc1cc(C=O)ccc1O\"]"
   ]
  },
  {
   "cell_type": "code",
   "execution_count": 10,
   "id": "520f4d0f",
   "metadata": {},
   "outputs": [
    {
     "data": {
      "text/plain": [
       "138"
      ]
     },
     "execution_count": 10,
     "metadata": {},
     "output_type": "execute_result"
    }
   ],
   "source": [
    "len(df.keys()[1:])"
   ]
  },
  {
   "cell_type": "code",
   "execution_count": 11,
   "id": "014c733e",
   "metadata": {},
   "outputs": [],
   "source": [
    "vanilla_index = df[df[\"nonStereoSMILES\"]==\"COc1cc(C=O)ccc1O\"].index[0]"
   ]
  },
  {
   "cell_type": "code",
   "execution_count": 12,
   "id": "c0c73d0f",
   "metadata": {},
   "outputs": [],
   "source": [
    "def custom_function(row):\n",
    "    # Example: Accessing individual values from the row using row[column_name]\n",
    "    vanilla_corr = df.iloc[vanilla_index][1:].to_numpy()  # Assuming this is the pre-calculated vanilla correlation vector\n",
    "    scent_values = row[1:].to_numpy()  # Get the scent values from the row (excluding the first column)\n",
    "    assert len(row[1:])==138, f\"{df.keys()}\"\n",
    "    \n",
    "    # Apply cosine similarity between the row's scent values and the vanilla correlation vector\n",
    "    return cosine_similarity(scent_values, vanilla_corr)  #  \n",
    "\n",
    "# Apply the custom function to each row\n",
    "df['reward'] = df.apply(custom_function, axis=1)"
   ]
  },
  {
   "cell_type": "code",
   "execution_count": 13,
   "id": "ac2ba495",
   "metadata": {},
   "outputs": [
    {
     "data": {
      "text/plain": [
       "<Axes: >"
      ]
     },
     "execution_count": 13,
     "metadata": {},
     "output_type": "execute_result"
    },
    {
     "data": {
      "image/png": "[encoded data removed]",
      "text/plain": [
       "<Figure size 640x480 with 1 Axes>"
      ]
     },
     "metadata": {},
     "output_type": "display_data"
    }
   ],
   "source": [
    "df[\"reward\"].hist(bins=50)"
   ]
  },
  {
   "cell_type": "code",
   "execution_count": 14,
   "id": "dbea1f56",
   "metadata": {},
   "outputs": [],
   "source": [
    "hist_df[\"cTrueLabel\"] = df[\"reward\"]\n",
    "hist_dfv[\"cTrueLabel\"] = df[df[\"vanilla\"]==1][\"reward\"]\n"
   ]
  },
  {
   "cell_type": "code",
   "execution_count": 15,
   "id": "de7b3c0a",
   "metadata": {},
   "outputs": [],
   "source": [
    "# Read Offline Molecules\n",
    "df_openpom = pd.read_csv(\"OpenPOM_probs.csv\")"
   ]
  },
  {
   "cell_type": "code",
   "execution_count": 16,
   "id": "1b2d8297",
   "metadata": {},
   "outputs": [
    {
     "data": {
      "text/plain": [
       "(4782, 4983)"
      ]
     },
     "execution_count": 16,
     "metadata": {},
     "output_type": "execute_result"
    }
   ],
   "source": [
    "len(df_openpom),len(df)"
   ]
  },
  {
   "cell_type": "code",
   "execution_count": 17,
   "id": "2db93ba5",
   "metadata": {},
   "outputs": [],
   "source": [
    "ind = []\n",
    "for i in df[df[\"vanilla\"]==1][\"nonStereoSMILES\"]:\n",
    "    ind.append(df_openpom[df_openpom[\"nonStereoSMILES\"]==i].index[0])"
   ]
  },
  {
   "cell_type": "code",
   "execution_count": 18,
   "id": "609ddf84",
   "metadata": {},
   "outputs": [
    {
     "data": {
      "text/plain": [
       "True"
      ]
     },
     "execution_count": 18,
     "metadata": {},
     "output_type": "execute_result"
    }
   ],
   "source": [
    "list(df_openpom.iloc[ind][\"nonStereoSMILES\"])==list(df[df[\"vanilla\"]==1][\"nonStereoSMILES\"])"
   ]
  },
  {
   "cell_type": "code",
   "execution_count": 19,
   "id": "f80462da",
   "metadata": {},
   "outputs": [
    {
     "data": {
      "text/plain": [
       "62"
      ]
     },
     "execution_count": 19,
     "metadata": {},
     "output_type": "execute_result"
    }
   ],
   "source": [
    "vanilla_index = df_openpom[df_openpom[\"nonStereoSMILES\"]==\"COc1cc(C=O)ccc1O\"].index[0]\n",
    "vanilla_index"
   ]
  },
  {
   "cell_type": "code",
   "execution_count": 20,
   "id": "b8d93fab",
   "metadata": {},
   "outputs": [],
   "source": [
    "def custom_function(row):\n",
    "    # Example: Accessing individual values from the row using row[column_name]\n",
    "    vanilla_corr = df_openpom.iloc[vanilla_index][1:].to_numpy()  # Assuming this is the pre-calculated vanilla correlation vector\n",
    "    scent_values = row[1:].to_numpy()  # Get the scent values from the row (excluding the first column)\n",
    "    \n",
    "    assert len(row[1:])==138, f\"{df.keys()} \\n \\n {df_openpom.keys()}\"\n",
    "    # Apply cosine similarity between the row's scent values and the vanilla correlation vector\n",
    "    return cosine_similarity(scent_values, vanilla_corr)  #  \n",
    "\n",
    "# Apply the custom function to each row\n",
    "df_openpom['reward'] = df_openpom.apply(custom_function, axis=1)"
   ]
  },
  {
   "cell_type": "code",
   "execution_count": 21,
   "id": "7472546f",
   "metadata": {},
   "outputs": [
    {
     "data": {
      "text/plain": [
       "<Axes: >"
      ]
     },
     "execution_count": 21,
     "metadata": {},
     "output_type": "execute_result"
    },
    {
     "data": {
      "image/png": "[encoded data removed]",
      "text/plain": [
       "<Figure size 640x480 with 1 Axes>"
      ]
     },
     "metadata": {},
     "output_type": "display_data"
    }
   ],
   "source": [
    "df_openpom[\"reward\"].hist(bins=50)"
   ]
  },
  {
   "cell_type": "code",
   "execution_count": 22,
   "id": "ebcc1603",
   "metadata": {},
   "outputs": [
    {
     "data": {
      "text/plain": [
       "4       0.988414\n",
       "26      0.975963\n",
       "32      0.931831\n",
       "62      1.000000\n",
       "65      0.998580\n",
       "          ...   \n",
       "4482    0.918295\n",
       "4532    0.991080\n",
       "4675    0.956425\n",
       "4706    0.987876\n",
       "4757    0.936418\n",
       "Name: reward, Length: 111, dtype: float64"
      ]
     },
     "execution_count": 22,
     "metadata": {},
     "output_type": "execute_result"
    }
   ],
   "source": [
    "df_openpom.iloc[ind][\"reward\"]"
   ]
  },
  {
   "cell_type": "code",
   "execution_count": null,
   "id": "1e1a7374",
   "metadata": {},
   "outputs": [],
   "source": [
    "hist_df[\"cOpenpom\"] = df_openpom[\"reward\"]\n",
    "hist_dfv[\"cOpenpom\"] = list(df_openpom.iloc[ind][\"reward\"].reset_index(drop=True))"
   ]
  },
  {
   "cell_type": "code",
   "execution_count": 24,
   "id": "593e3783",
   "metadata": {},
   "outputs": [
    {
     "data": {
      "text/plain": [
       "Index(['alcoholic', 'aldehydic', 'alliaceous', 'almond', 'amber', 'animal',\n",
       "       'anisic', 'apple', 'apricot', 'aromatic',\n",
       "       ...\n",
       "       'tropical', 'vanilla', 'vegetable', 'vetiver', 'violet', 'warm', 'waxy',\n",
       "       'weedy', 'winey', 'woody'],\n",
       "      dtype='object', length=138)"
      ]
     },
     "execution_count": 24,
     "metadata": {},
     "output_type": "execute_result"
    }
   ],
   "source": [
    "df.keys()[1:-1]"
   ]
  },
  {
   "cell_type": "code",
   "execution_count": 25,
   "id": "050d7464",
   "metadata": {},
   "outputs": [],
   "source": [
    "def custom_function(row):\n",
    "    # Example: Accessing individual values from the row using row[column_name]\n",
    "    vanilla_corr = df_openpom.iloc[vanilla_index][1:-1].to_numpy()  # Assuming this is the pre-calculated vanilla correlation vector\n",
    "    scent_values = row[1:-1].to_numpy()  # Get the scent values from the row (excluding the first column)\n",
    "    assert len(scent_values)==138, f\"{len(df.keys())} \\n \\n {len(df_openpom.keys())}\"\n",
    "    \n",
    "    # Apply cosine similarity between the row's scent values and the vanilla correlation vector\n",
    "    return cosine_similarity(scent_values, vanilla_corr)  #  \n",
    "\n",
    "# Apply the custom function to each row\n",
    "df['rewardcomb'] = df.apply(custom_function, axis=1)\n",
    "    "
   ]
  },
  {
   "cell_type": "code",
   "execution_count": 26,
   "id": "0bb76a5a",
   "metadata": {},
   "outputs": [
    {
     "data": {
      "text/plain": [
       "<Axes: >"
      ]
     },
     "execution_count": 26,
     "metadata": {},
     "output_type": "execute_result"
    },
    {
     "data": {
      "image/png": "[encoded data removed]",
      "text/plain": [
       "<Figure size 640x480 with 1 Axes>"
      ]
     },
     "metadata": {},
     "output_type": "display_data"
    }
   ],
   "source": [
    "df[\"rewardcomb\"].hist(bins=50)"
   ]
  },
  {
   "cell_type": "code",
   "execution_count": 27,
   "id": "ea0a593d",
   "metadata": {},
   "outputs": [],
   "source": [
    "hist_df[\"cMixLabel\"] = df[\"rewardcomb\"]\n",
    "hist_dfv[\"cMixLabel\"] = df[df[\"vanilla\"]==1][\"rewardcomb\"]"
   ]
  },
  {
   "cell_type": "code",
   "execution_count": 28,
   "id": "2cedc434",
   "metadata": {},
   "outputs": [],
   "source": [
    "vanilla_index = df[df[\"nonStereoSMILES\"]==\"COc1cc(C=O)ccc1O\"].index[0]\n",
    "def custom_function(row):\n",
    "    # Example: Accessing individual values from the row using row[column_name]\n",
    "    vanilla_corr = df.iloc[vanilla_index][1:-2].to_numpy()  # Assuming this is the pre-calculated vanilla correlation vector\n",
    "    scent_values = row[1:-1].to_numpy()  # Get the scent values from the row (excluding the first column)\n",
    "    assert len(scent_values)==138, f\"{df.keys()} \\n \\n {df_openpom.keys()}\"\n",
    "    assert len(vanilla_corr)==138, f\"{df.keys()} \\n \\n {df_openpom.keys()}\"\n",
    "    # Apply cosine similarity between the row's scent values and the vanilla correlation vector\n",
    "    return cosine_similarity(scent_values, vanilla_corr)  #  \n",
    "\n",
    "# Apply the custom function to each row\n",
    "df_openpom['rewardcomb'] = df_openpom.apply(custom_function, axis=1)\n",
    "    "
   ]
  },
  {
   "cell_type": "code",
   "execution_count": 29,
   "id": "05d8659b",
   "metadata": {},
   "outputs": [
    {
     "data": {
      "text/plain": [
       "<Axes: >"
      ]
     },
     "execution_count": 29,
     "metadata": {},
     "output_type": "execute_result"
    },
    {
     "data": {
      "image/png": "[encoded data removed]",
      "text/plain": [
       "<Figure size 640x480 with 1 Axes>"
      ]
     },
     "metadata": {},
     "output_type": "display_data"
    }
   ],
   "source": [
    "df_openpom['rewardcomb'].hist(bins=50)"
   ]
  },
  {
   "cell_type": "code",
   "execution_count": 30,
   "id": "d0719d7f",
   "metadata": {},
   "outputs": [],
   "source": [
    "hist_df[\"cMixedOpenpom\"] = df_openpom[\"rewardcomb\"]\n",
    "hist_dfv[\"cMixedOpenpom\"] = list(df_openpom.iloc[ind][\"rewardcomb\"].reset_index(drop=True))"
   ]
  },
  {
   "cell_type": "code",
   "execution_count": 31,
   "id": "978b56c4",
   "metadata": {},
   "outputs": [
    {
     "data": {
      "text/plain": [
       "Index(['cTrueLabel', 'cOpenpom', 'cMixLabel', 'cMixedOpenpom'], dtype='object')"
      ]
     },
     "execution_count": 31,
     "metadata": {},
     "output_type": "execute_result"
    }
   ],
   "source": [
    "hist_dfv.keys()"
   ]
  },
  {
   "cell_type": "code",
   "execution_count": 32,
   "id": "cfeb6f88",
   "metadata": {},
   "outputs": [
    {
     "data": {
      "text/plain": [
       "(111, 6, 111, 111)"
      ]
     },
     "execution_count": 32,
     "metadata": {},
     "output_type": "execute_result"
    }
   ],
   "source": [
    "len(hist_dfv[\"cTrueLabel\"].dropna()),len(hist_dfv[\"cOpenpom\"].dropna()),len(hist_dfv[\"cMixLabel\"].dropna()),len(hist_dfv[\"cMixedOpenpom\"].dropna())"
   ]
  },
  {
   "cell_type": "code",
   "execution_count": 34,
   "id": "c1db26b3",
   "metadata": {},
   "outputs": [
    {
     "name": "stdout",
     "output_type": "stream",
     "text": [
      "Index(['cTrueLabel', 'cOpenpom', 'cMixLabel', 'cMixedOpenpom'], dtype='object')\n",
      "0\n",
      "1\n",
      "2\n",
      "3\n"
     ]
    },
    {
     "data": {
      "image/png": "[encoded data removed]",
      "text/plain": [
       "<Figure size 1500x800 with 8 Axes>"
      ]
     },
     "metadata": {},
     "output_type": "display_data"
    }
   ],
   "source": [
    "import matplotlib.pyplot as plt\n",
    "\n",
    "# Assume df1 and df2 are your two DataFrames\n",
    "cols_to_plot = hist_df.keys()  # Since they have the same column names\n",
    "print(cols_to_plot)\n",
    "fig, axes = plt.subplots(2, 4, figsize=(15, 8))  # 6 plots: 2 rows, 3 columns\n",
    "titles = [\"True vanillin x True mol\", \"OpenPOM vanillin x OpenPOM mol\", \"OpenPOM vanillin x True mol\", \"True vanillin x OpenPOM mol\"]\n",
    "axes = axes.flatten()  # Flatten to a 1D array for easy iteration\n",
    "\n",
    "for idx, col in enumerate(cols_to_plot):\n",
    "    print(idx)\n",
    "    ax1 = axes[idx]\n",
    "    ax2 = axes[idx+4]\n",
    "    #ax.set_yscale(\"log\")\n",
    "    ax1.hist(hist_df[col], bins=50, alpha=0.5, label='OpenPOM', color='blue')\n",
    "    ax2.hist(hist_dfv[col], bins=20, alpha=0.5, label='Vanilla Only', color='red')\n",
    "    \n",
    "    ax1.set_title(titles[idx])\n",
    "    ax1.legend()\n",
    "    ax2.legend()\n",
    "\n",
    "# Make layout tight so labels/titles don't overlap\n",
    "plt.tight_layout()\n",
    "plt.show()\n"
   ]
  },
  {
   "cell_type": "code",
   "execution_count": 41,
   "id": "fbdc2fdf",
   "metadata": {},
   "outputs": [
    {
     "name": "stdout",
     "output_type": "stream",
     "text": [
      "4782\n"
     ]
    },
    {
     "name": "stderr",
     "output_type": "stream",
     "text": [
      "c:\\Users\\paulj\\Desktop\\Master\\venv\\lib\\site-packages\\numpy\\lib\\function_base.py:2897: RuntimeWarning: invalid value encountered in divide\n",
      "  c /= stddev[:, None]\n",
      "c:\\Users\\paulj\\Desktop\\Master\\venv\\lib\\site-packages\\numpy\\lib\\function_base.py:2898: RuntimeWarning: invalid value encountered in divide\n",
      "  c /= stddev[None, :]\n"
     ]
    }
   ],
   "source": [
    "# Read Offline Molecules\n",
    "df = pd.read_csv(\"openpomdata.csv\").drop(\"descriptors\",axis=1)\n",
    "\n",
    "# Simplify the requirements for the Molecule Building environment \n",
    "\n",
    "# Drop all odorless molecules (They often contain weird elements)\n",
    "df =  df[df['odorless'] == False]\n",
    "\n",
    "# Drop all molecules with more than one explicit hydrogen atom \n",
    "df = df[df[\"nonStereoSMILES\"].apply(explicit_H_filter)].copy() \n",
    "\n",
    "# Reset index since some indexes have been dropped (1,3,7,...) to (1,2,3,...)\n",
    "df = df.reset_index(drop=True)\n",
    "print(len(df))\n",
    "\n",
    "# Calculate reward function values \n",
    "\n",
    "# Scent corrolation \n",
    "scent_matrix = df[df.keys()[1:]].to_numpy()\n",
    "vanilla_idx = list(df.keys()[1:]).index(\"vanilla\")  \n",
    "\n",
    "# compute Pearson correlation between vanilla and every other scent\n",
    "vanilla_col = scent_matrix[:, vanilla_idx]\n",
    "corrs = np.array([np.corrcoef(vanilla_col, scent_matrix[:, i])[0,1] for i in range(138)])\n",
    "vanilla_corr_vec = np.nan_to_num(corrs)  # shape: (138,), with NaNs replaced by 0\n",
    "\n",
    "\n",
    "scent_cols = df.columns[1:]\n",
    "df[\"reward\"]= df[scent_cols].apply(lambda x: cosine_similarity(x, vanilla_corr_vec), axis=1)\n",
    "\n",
    "# Normalize to [0.1, 1.0] range (or any positive range you like)\n",
    "min_r = df[\"reward\"].min()\n",
    "max_r = df[\"reward\"].max()\n",
    "\n",
    "# Avoid zero reward\n",
    "scaled_rewards = 0.1 + 0.9 * (df[\"reward\"] - min_r) / (max_r - min_r)\n",
    "df[\"shift_reward\"] = scaled_rewards\n",
    "df = df[df[\"vanilla\"]==1]\n",
    "df = df.reset_index(drop=True) "
   ]
  },
  {
   "cell_type": "code",
   "execution_count": 42,
   "id": "731d0495",
   "metadata": {},
   "outputs": [
    {
     "name": "stdout",
     "output_type": "stream",
     "text": [
      "4782\n"
     ]
    },
    {
     "name": "stderr",
     "output_type": "stream",
     "text": [
      "c:\\Users\\paulj\\Desktop\\Master\\venv\\lib\\site-packages\\numpy\\lib\\function_base.py:2897: RuntimeWarning: invalid value encountered in divide\n",
      "  c /= stddev[:, None]\n",
      "c:\\Users\\paulj\\Desktop\\Master\\venv\\lib\\site-packages\\numpy\\lib\\function_base.py:2898: RuntimeWarning: invalid value encountered in divide\n",
      "  c /= stddev[None, :]\n"
     ]
    }
   ],
   "source": [
    "# Read Offline Molecules\n",
    "df2 = pd.read_csv(\"openpomdata.csv\").drop(\"descriptors\",axis=1)\n",
    "\n",
    "# Simplify the requirements for the Molecule Building environment \n",
    "\n",
    "# Drop all odorless molecules (They often contain weird elements)\n",
    "df2 =  df2[df2['odorless'] == False]\n",
    "\n",
    "# Drop all molecules with more than one explicit hydrogen atom \n",
    "df2 = df2[df2[\"nonStereoSMILES\"].apply(explicit_H_filter)].copy() \n",
    "\n",
    "# Reset index since some indexes have been dropped (1,3,7,...) to (1,2,3,...)\n",
    "df2 = df2.reset_index(drop=True)\n",
    "print(len(df2))\n",
    "\n",
    "# Calculate reward function values \n",
    "\n",
    "# Scent corrolation \n",
    "scent_matrix = df2[df2.keys()[1:]].to_numpy()\n",
    "vanilla_idx = list(df2.keys()[1:]).index(\"vanilla\")  \n",
    "\n",
    "# compute Pearson correlation between vanilla and every other scent\n",
    "vanilla_col = scent_matrix[:, vanilla_idx]\n",
    "corrs = np.array([np.corrcoef(vanilla_col, scent_matrix[:, i])[0,1] for i in range(138)])\n",
    "vanilla_corr_vec = np.nan_to_num(corrs)  # shape: (138,), with NaNs replaced by 0\n",
    "\n",
    "\n",
    "scent_cols = df2.columns[1:]\n",
    "df2[\"reward\"]= df2[scent_cols].apply(lambda x: cosine_similarity(x, vanilla_corr_vec), axis=1)\n",
    "\n",
    "# Normalize to [0.1, 1.0] range (or any positive range you like)\n",
    "min_r = df2[\"reward\"].min()\n",
    "max_r = df2[\"reward\"].max()\n",
    "\n",
    "# Avoid zero reward\n",
    "scaled_rewards = 0.1 + 0.9 * (df2[\"reward\"] - min_r) / (max_r - min_r)\n",
    "df2[\"shift_reward\"] = scaled_rewards"
   ]
  },
  {
   "cell_type": "code",
   "execution_count": 44,
   "id": "c35ff322",
   "metadata": {},
   "outputs": [
    {
     "data": {
      "image/png": "[encoded data removed]",
      "text/plain": [
       "<Figure size 500x800 with 2 Axes>"
      ]
     },
     "metadata": {},
     "output_type": "display_data"
    }
   ],
   "source": [
    "# Assume df1 and df2 are your two DataFrames\n",
    "fig, axes = plt.subplots(2, 1, figsize=(5, 8))  # 6 plots: 2 rows, 3 columns\n",
    "axes = axes.flatten()  # Flatten to a 1D array for easy iteration\n",
    "\n",
    "\n",
    "ax1 = axes[0]\n",
    "ax2 = axes[1]\n",
    "#ax.set_yscale(\"log\")\n",
    "ax1.hist(df2[\"shift_reward\"], bins=50, alpha=0.5, label='OpenPOM', color='blue')\n",
    "ax2.hist(df[\"shift_reward\"], bins=20, alpha=0.5, label='Vanilla Only', color='red')\n",
    "\n",
    "ax1.set_title(\"Pearson correlation x True mol\")\n",
    "ax1.legend()\n",
    "ax2.legend()\n",
    "\n",
    "# Make layout tight so labels/titles don't overlap\n",
    "plt.tight_layout()\n",
    "plt.show()"
   ]
  }
 ],
 "metadata": {
  "kernelspec": {
   "display_name": "venv",
   "language": "python",
   "name": "python3"
  },
  "language_info": {
   "codemirror_mode": {
    "name": "ipython",
    "version": 3
   },
   "file_extension": ".py",
   "mimetype": "text/x-python",
   "name": "python",
   "nbconvert_exporter": "python",
   "pygments_lexer": "ipython3",
   "version": "3.10.9"
  }
 },
 "nbformat": 4,
 "nbformat_minor": 5
}
